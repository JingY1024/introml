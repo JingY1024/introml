{
  "nbformat": 4,
  "nbformat_minor": 0,
  "metadata": {
    "kernelspec": {
      "display_name": "Python 3",
      "language": "python",
      "name": "python3"
    },
    "language_info": {
      "codemirror_mode": {
        "name": "ipython",
        "version": 3
      },
      "file_extension": ".py",
      "mimetype": "text/x-python",
      "name": "python",
      "nbconvert_exporter": "python",
      "pygments_lexer": "ipython3",
      "version": "3.6.7"
    },
    "colab": {
      "name": "“lab_wine_partial.ipynb”的副本",
      "provenance": [],
      "collapsed_sections": [],
      "include_colab_link": true
    }
  },
  "cells": [
    {
      "cell_type": "markdown",
      "metadata": {
        "id": "view-in-github",
        "colab_type": "text"
      },
      "source": [
        "<a href=\"https://colab.research.google.com/github/JingY1024/introml/blob/master/lab11_yj1586.ipynb\" target=\"_parent\"><img src=\"https://colab.research.google.com/assets/colab-badge.svg\" alt=\"Open In Colab\"/></a>"
      ]
    },
    {
      "cell_type": "markdown",
      "metadata": {
        "id": "rfqV6U6ZqN7y"
      },
      "source": [
        "# Lab:  Hyper-Parameter Optimization with PCA\n",
        "\n",
        "PCA is often applied as a pre-processing step with classifiers.  When using PCA in this manner, one must select the number of PC components to use along with parameters in classifier.  In this lab, we will demonstrate how to performing this *hyper-parameter optimization*.  In doing the lab, you will learn to:\n",
        "\n",
        "* Combine PCA with data scaling.\n",
        "* Compute and visualize PC components\n",
        "* Select the number of PCs with K-fold cross validation\n",
        "* Implement the multi-stage classifier pipeline in sklearn\n",
        "* Perform automatic parameter search using `GridSearchCV` in combination with a pipeline.\n",
        "\n",
        "We first download the basic packages."
      ]
    },
    {
      "cell_type": "code",
      "metadata": {
        "id": "agjcMqOFqN7y"
      },
      "source": [
        "import numpy as np\n",
        "import matplotlib\n",
        "import matplotlib.pyplot as plt"
      ],
      "execution_count": 2,
      "outputs": []
    },
    {
      "cell_type": "markdown",
      "metadata": {
        "id": "Wzo_jLIQqN7z"
      },
      "source": [
        "## Downloading the Data\n",
        "\n",
        "We will use a very simple `wine` dataset, commonly used in teaching machine learning class.  The problem is to classify the type of red wine from features of the wine such as the `alchohol` and other chemical components.  There are three possible wine types."
      ]
    },
    {
      "cell_type": "code",
      "metadata": {
        "id": "ro85k27MqN7z",
        "colab": {
          "base_uri": "https://localhost:8080/"
        },
        "outputId": "a45bd587-0cb0-4592-9ede-9c9f392b192a"
      },
      "source": [
        "from sklearn.datasets import load_wine\n",
        "from sklearn.model_selection import KFold\n",
        "data = load_wine()\n",
        "\n",
        "# TODO print the features names in data.feature_names and data.target_names\n",
        "print(data.feature_names)\n",
        "print(data.target_names)\n",
        "print(data.data.shape)"
      ],
      "execution_count": 4,
      "outputs": [
        {
          "output_type": "stream",
          "text": [
            "['alcohol', 'malic_acid', 'ash', 'alcalinity_of_ash', 'magnesium', 'total_phenols', 'flavanoids', 'nonflavanoid_phenols', 'proanthocyanins', 'color_intensity', 'hue', 'od280/od315_of_diluted_wines', 'proline']\n",
            "['class_0' 'class_1' 'class_2']\n",
            "(178, 13)\n"
          ],
          "name": "stdout"
        }
      ]
    },
    {
      "cell_type": "markdown",
      "metadata": {
        "id": "9HZu9ZnIqN7z"
      },
      "source": [
        "Get the data matrix `X` from `data.data` and the target values `y` from `data.target`.  Print the number of samples, number of features and number of classes."
      ]
    },
    {
      "cell_type": "code",
      "metadata": {
        "id": "Ctocjt12qN7z",
        "colab": {
          "base_uri": "https://localhost:8080/"
        },
        "outputId": "1e811cc9-d489-4ef6-afc3-2b74ddb1500f"
      },
      "source": [
        "# TODO\n",
        "X = data.data\n",
        "y = data.target\n",
        "N, nfeatures = X.shape\n",
        "print('number of samples = ', N)\n",
        "print('number of features = ', nfeatures)\n",
        "print('number of classes = ', len(data.target_names))"
      ],
      "execution_count": 5,
      "outputs": [
        {
          "output_type": "stream",
          "text": [
            "number of samples =  178\n",
            "number of features =  13\n",
            "number of classes =  3\n"
          ],
          "name": "stdout"
        }
      ]
    },
    {
      "cell_type": "markdown",
      "metadata": {
        "id": "ok1FK47_qN7z"
      },
      "source": [
        "## Perform PCA for Visualization\n",
        "\n",
        "Before performing PCA, you should scale the data matrix to remove the mean and normalize the variance of the different components.  For this purpose, create a `StandardScaling` object `scaling`.  Then `fit` the scaling with the entire data `X`.  Transform the data and let `Xs` be the scaled data."
      ]
    },
    {
      "cell_type": "code",
      "metadata": {
        "id": "lUFPUk1tqN7z"
      },
      "source": [
        "from sklearn.preprocessing import StandardScaler\n",
        "\n",
        "# TODO\n",
        "scaling = StandardScaler()\n",
        "scaling.fit(X)\n",
        "Xs = scaling.transform(X)"
      ],
      "execution_count": 6,
      "outputs": []
    },
    {
      "cell_type": "markdown",
      "metadata": {
        "id": "GPEfuZMbqN7z"
      },
      "source": [
        "Now, fit a PCA on the scaled data matrix `Xs`.  You can use the `sklearn` `PCA` method.  In order that we can visualize the results set `n_components=2`.  Select `svd_solver='randomized'` and `whiten=True`.  Use the the `pca.transform` method to find, `Z`, the coefficients of `Xs` in the PCA basis."
      ]
    },
    {
      "cell_type": "code",
      "metadata": {
        "id": "_j3I7edsqN7z"
      },
      "source": [
        "from sklearn.decomposition import PCA\n",
        "\n",
        "# TODO\n",
        "ncomp = 2\n",
        "pca = PCA(n_components=ncomp, svd_solver='randomized', whiten=True).fit(Xs)\n",
        "Z = pca.transform(Xs)"
      ],
      "execution_count": 7,
      "outputs": []
    },
    {
      "cell_type": "markdown",
      "metadata": {
        "id": "MIXAhS5xqN7z"
      },
      "source": [
        "In the transformed basis, each data sample is represented by a two dimensional vector, `Z[i,0], Z[i,1]`.  Plot a scatter plot of the transformed data.  Use different marker colors for the different classes.  If you did everything, you should see that the classes are quite well separated with even two PCs."
      ]
    },
    {
      "cell_type": "code",
      "metadata": {
        "id": "8ic8YykDqN7z",
        "colab": {
          "base_uri": "https://localhost:8080/",
          "height": 265
        },
        "outputId": "b92774a8-3e18-4bda-86f0-8ca6588c905b"
      },
      "source": [
        "# TODO\n",
        "for k in range(3):\n",
        "    plt.scatter(Z[y==k, 0], Z[y==k, 1], label = 'class %s' % k)\n",
        "plt.legend()\n",
        "plt.grid()\n",
        "plt.show()"
      ],
      "execution_count": 8,
      "outputs": [
        {
          "output_type": "display_data",
          "data": {
            "image/png": "[encoded data removed]",
            "text/plain": [
              "<Figure size 432x288 with 1 Axes>"
            ]
          },
          "metadata": {
            "tags": [],
            "needs_background": "light"
          }
        }
      ]
    },
    {
      "cell_type": "markdown",
      "metadata": {
        "id": "N5mk1UJ2qN7z"
      },
      "source": [
        "Now, refit the scaled data `Xs` using `n_components=nfeatures` where `nfeatures` is the number of features.  This is the maximum number of PCs.  Get the singular values from `pca.singular_values_` and plot the portion of variation as a function of the number of PCs.   The PoV for using `n` PCs is:\n",
        "\n",
        "    PoV[n]  = \\sum_{i=0}^{n-1}  s[i]**2 / \\sum_{i=0}^{d-1}  s[i]**2\n",
        "    \n",
        "where `s[i]` is the `i`-th singular value and `d` is the number of features.  You should see that the 4 PCs contains more than 70% of the variance."
      ]
    },
    {
      "cell_type": "code",
      "metadata": {
        "id": "LMI8Ls0iqN7z",
        "colab": {
          "base_uri": "https://localhost:8080/",
          "height": 284
        },
        "outputId": "3aa06c3d-6377-4663-95cc-39404a126d36"
      },
      "source": [
        "# TODO\n",
        "pca = PCA(n_components=nfeatures, svd_solver='randomized', whiten=True).fit(Xs)\n",
        "S = (pca.singular_values_)**2\n",
        "PoV = np.cumsum(S)/np.sum(S)\n",
        "\n",
        "plt.plot(PoV)\n",
        "plt.grid()\n",
        "plt.axis([1,nfeatures,0, 1.1])\n",
        "plt.xlabel('Number of PCs', fontsize=16)\n",
        "plt.ylabel('PoV', fontsize=16)\n",
        "plt.show()"
      ],
      "execution_count": 9,
      "outputs": [
        {
          "output_type": "display_data",
          "data": {
            "image/png": "[encoded data removed]",
            "text/plain": [
              "<Figure size 432x288 with 1 Axes>"
            ]
          },
          "metadata": {
            "tags": [],
            "needs_background": "light"
          }
        }
      ]
    },
    {
      "cell_type": "markdown",
      "metadata": {
        "id": "L-u6VaaZqN7z"
      },
      "source": [
        "## Using PCA with Classification \n",
        "\n",
        "We will now use data scaling and PCA as a pre-processing step for logistic classification.  The number of PCs to use can be found with cross-validation.  Complete the code below which tries different number of PCs components to use and measures the test accuracy for each value."
      ]
    },
    {
      "cell_type": "code",
      "metadata": {
        "id": "kaREglkhqN7z"
      },
      "source": [
        "from sklearn.preprocessing import StandardScaler\n",
        "from sklearn.linear_model import LogisticRegression\n",
        "nfold = 5\n",
        "\n",
        "# Create a K-fold object\n",
        "kf = KFold(n_splits=nfold)\n",
        "kf.get_n_splits(X)\n",
        "\n",
        "# Number of PCs to try\n",
        "ncomp_test = np.arange(2,12)\n",
        "num_nc = len(ncomp_test)\n",
        "\n",
        "# Accuracy:  acc[icomp,ifold]  is test accuracy when using `ncomp = ncomp_test[icomp]` in fold `ifold`.\n",
        "acc = np.zeros((num_nc,nfold))\n",
        "acc_tr = np.zeros((num_nc,nfold))\n",
        "\n",
        "# Loop over number of components to test\n",
        "for icomp, ncomp in enumerate(ncomp_test):\n",
        "    \n",
        "    # Look over the folds\n",
        "    for ifold, I in enumerate(kf.split(X)):\n",
        "        Itr, Its = I\n",
        "\n",
        "        # TODO:  Split data into training \n",
        "        Xtr = X[Itr]\n",
        "        Xts = X[Its]\n",
        "        ytr = y[Itr]\n",
        "        yts = y[Its]\n",
        "\n",
        "        # TODO:  Create a scaling object and fit the scaling on the training data\n",
        "        scaling = StandardScaler()\n",
        "        scaling.fit(Xtr)\n",
        "        Xs_tr = scaling.transform(Xtr)\n",
        "\n",
        "        # TODO:  Fit the PCA on the scaled training data\n",
        "        pca = PCA(n_components=ncomp, svd_solver='randomized', whiten=True).fit(Xs_tr)\n",
        "        Ztr = pca.transform(Xs_tr)\n",
        "\n",
        "        # TODO:  Train a classifier on the transformed training data\n",
        "        # Use a logistic regression classifier\n",
        "        logreg = LogisticRegression(multi_class='auto', solver='lbfgs')\n",
        "        logreg.fit(Ztr, ytr)\n",
        "        yhat = logreg.predict(Ztr)\n",
        "        acc_tr[icomp, ifold] = np.mean(yhat==ytr)\n",
        "\n",
        "        # TODO:  Transform the test data through data scaler and PCA\n",
        "        Xs_ts = scaling.transform(Xts)\n",
        "        Zts = pca.transform(Xs_ts)\n",
        "\n",
        "        # TODO:  Predict the labels the test data\n",
        "        yhat = logreg.predict(Zts)\n",
        "\n",
        "        # TODO:  Measure the accuracy \n",
        "        acc[icomp, ifold] = np.mean(yhat==yts)\n"
      ],
      "execution_count": 11,
      "outputs": []
    },
    {
      "cell_type": "markdown",
      "metadata": {
        "id": "CtuIWiKvqN7z"
      },
      "source": [
        "Use the `plt.errorbar` function to plot the mean accuracy with error bars corresponding to the standard error of the accuracy as a function of the number of components.  Find the optimal number of PCs to use according to the normal rule and one SE rule.  If you did it correctly, you should get an accuracy of around 96%."
      ]
    },
    {
      "cell_type": "code",
      "metadata": {
        "id": "3mMYp3D1qN7z",
        "colab": {
          "base_uri": "https://localhost:8080/",
          "height": 313
        },
        "outputId": "51459d96-c178-4cbb-9a35-64a751a25915"
      },
      "source": [
        "# TODO:\n",
        "acc_mean = np.mean(acc_tr, axis=1)\n",
        "acc_se = np.std(acc_tr, axis=1)/np.sqrt(nfold-1)\n",
        "plt.errorbar(ncomp_test, acc_mean, acc_se, label='Train')\n",
        "acc_mean = np.mean(acc, axis=1)\n",
        "acc_se = np.std(acc, axis=1)/np.sqrt(nfold-1)\n",
        "plt.errorbar(ncomp_test, acc_mean, acc_se, label='Test')\n",
        "plt.xlabel('Number of PCs')\n",
        "plt.ylabel('Mean Accuracy +- SE')\n",
        "plt.grid()\n",
        "plt.legend()\n",
        "plt.show()\n",
        "\n",
        "# TODO:  Optimal order with the normal rule\n",
        "p = np.argmax(acc_mean)\n",
        "print('Optimal order with the normal rule is: ', ncomp_test[p])\n",
        "\n",
        "# TODO:  Optimal order with one SE rule\n",
        "Stgt = acc_mean[p]-acc_se[p]\n",
        "tmp = acc_mean[acc_mean>Stgt]\n",
        "p0 = np.argmax(tmp)\n",
        "tmp = tmp[p0]\n",
        "print('Optimal order with one SE rule is: ', ncomp_test[tmp==acc_mean][0])"
      ],
      "execution_count": 12,
      "outputs": [
        {
          "output_type": "display_data",
          "data": {
            "image/png": "[encoded data removed]",
            "text/plain": [
              "<Figure size 432x288 with 1 Axes>"
            ]
          },
          "metadata": {
            "tags": [],
            "needs_background": "light"
          }
        },
        {
          "output_type": "stream",
          "text": [
            "Optimal order with the normal rule is:  11\n",
            "Optimal order with one SE rule is:  11\n"
          ],
          "name": "stdout"
        }
      ]
    },
    {
      "cell_type": "markdown",
      "metadata": {
        "id": "OH33XSoBqN7z"
      },
      "source": [
        "## Hyper-Parameter Optimization with GridCV.\n",
        "\n",
        "We will now try a more complex classifier -- a support vector classifier with a radial basis function.  When we use such a classifer, there will be a number of parameters to tune.  When the number of parameters to tune becomes large, writing a loop over multiple parameters as we did above becomes cumbersome.  The `sklearn` package has a very nice routine, `GridSearchCV` to perform this sort of parameter search.  \n",
        "\n",
        "Before, we do this we need to create an estimator `Pipeline`.  An estimator pipeline is a sequence of transformations followed by an estimator that will operate on the transformed data.  Create the following pipeline:\n",
        "\n",
        "*  Create a `StandardScaler()` object called `scaler` for the first transformation\n",
        "*  Create a `PCA()` object called `pca` for the second transformation\n",
        "*  Create a `SVC()` object called `svc` for the final SVM classifier.  Set the parameter `kernel='rbf'`.\n",
        "\n",
        "Once you have the three steps defined, you can create the pipeline with the command:\n",
        "    \n",
        "    pipe = Pipeline(steps=[('scaler', scaler), ('pca', pca), ('svc', svc)])"
      ]
    },
    {
      "cell_type": "code",
      "metadata": {
        "id": "ZO8gLjw5qN7z"
      },
      "source": [
        "from sklearn.pipeline import Pipeline\n",
        "from sklearn.model_selection import GridSearchCV\n",
        "from sklearn.svm import SVC\n",
        "\n",
        "# TODO\n",
        "scaler = StandardScaler()\n",
        "pca = PCA(n_components=nfeatures, svd_solver='randomized', whiten=True)\n",
        "svc = SVC(kernel='rbf')\n",
        "pipe = Pipeline(steps=[('scaler', scaler), ('pca', pca), ('svc', svc)])"
      ],
      "execution_count": 15,
      "outputs": []
    },
    {
      "cell_type": "markdown",
      "metadata": {
        "id": "EhdbaHHOqN7z"
      },
      "source": [
        "We next define all the parameters that we want to search over.  Define the following arrays:\n",
        "\n",
        "*  `ncomp_test`:  values from 3 to 10 representing number of PCs to test\n",
        "*  `C_test`:  values of `C` in the SVC to test.  Use `10^{-2}, 10^{-1}, ... ,10^{3}` \n",
        "*  `gam_test`:  values of `gamma` in the SVC to test.  Use `10^{-3}, 10^{-2}, ... ,10^{1}` "
      ]
    },
    {
      "cell_type": "code",
      "metadata": {
        "id": "bisJOOJmqN7z"
      },
      "source": [
        "# TODO\n",
        "ncomp_test = np.arange(3,11)\n",
        "c_test = 10.0**(np.arange(-2,4))\n",
        "gam_test = 10.0**(np.arange(-3,2))"
      ],
      "execution_count": 14,
      "outputs": []
    },
    {
      "cell_type": "markdown",
      "metadata": {
        "id": "EMtAibbRqN7z"
      },
      "source": [
        "Next, we create a dictionary `params` of the form:\n",
        "\n",
        "    params =  {'pca__n_components': ncomp_test, 'svc__C' : c_test, ...}\n",
        "    \n",
        "Each key in the dictionary is the of the form `estimator__param` and the value is the values to be tested."
      ]
    },
    {
      "cell_type": "code",
      "metadata": {
        "id": "iClUjCm-qN7z"
      },
      "source": [
        "# TODO\n",
        "params =  {'pca__n_components': ncomp_test, 'svc__C' : c_test, 'svc__gamma' : gam_test}"
      ],
      "execution_count": 16,
      "outputs": []
    },
    {
      "cell_type": "markdown",
      "metadata": {
        "id": "hQ-lMngdqN7z"
      },
      "source": [
        "Finally, an object `estimator = GridSearchCV(...)` from  `pipe` and `params`.  Set `cv=5`, `train_score=True` and `iid=False`.  Fit the estimator from the data `X,y`.  Then the estimator will perform the cross-validation over all the parameters.  This may take a minute since we are search over so many parameters."
      ]
    },
    {
      "cell_type": "code",
      "metadata": {
        "id": "PvrrzBtqqN7z",
        "colab": {
          "base_uri": "https://localhost:8080/"
        },
        "outputId": "6bb4ca6f-aab2-40e6-ea07-1e9ab191a668"
      },
      "source": [
        "# TODO\n",
        "estimator = GridSearchCV(pipe, params, cv=5, return_train_score=True, iid=False)\n",
        "estimator.fit(X,y)"
      ],
      "execution_count": 17,
      "outputs": [
        {
          "output_type": "stream",
          "text": [
            "/usr/local/lib/python3.6/dist-packages/sklearn/model_selection/_search.py:823: FutureWarning: The parameter 'iid' is deprecated in 0.22 and will be removed in 0.24.\n",
            "  \"removed in 0.24.\", FutureWarning\n"
          ],
          "name": "stderr"
        },
        {
          "output_type": "execute_result",
          "data": {
            "text/plain": [
              "GridSearchCV(cv=5, error_score=nan,\n",
              "             estimator=Pipeline(memory=None,\n",
              "                                steps=[('scaler',\n",
              "                                        StandardScaler(copy=True,\n",
              "                                                       with_mean=True,\n",
              "                                                       with_std=True)),\n",
              "                                       ('pca',\n",
              "                                        PCA(copy=True, iterated_power='auto',\n",
              "                                            n_components=13, random_state=None,\n",
              "                                            svd_solver='randomized', tol=0.0,\n",
              "                                            whiten=True)),\n",
              "                                       ('svc',\n",
              "                                        SVC(C=1.0, break_ties=False,\n",
              "                                            cache_size=200, class_weight=None,\n",
              "                                            coef0=0.0,\n",
              "                                            decision_fun...\n",
              "                                            random_state=None, shrinking=True,\n",
              "                                            tol=0.001, verbose=False))],\n",
              "                                verbose=False),\n",
              "             iid=False, n_jobs=None,\n",
              "             param_grid={'pca__n_components': array([ 3,  4,  5,  6,  7,  8,  9, 10]),\n",
              "                         'svc__C': array([1.e-02, 1.e-01, 1.e+00, 1.e+01, 1.e+02, 1.e+03]),\n",
              "                         'svc__gamma': array([1.e-03, 1.e-02, 1.e-01, 1.e+00, 1.e+01])},\n",
              "             pre_dispatch='2*n_jobs', refit=True, return_train_score=True,\n",
              "             scoring=None, verbose=0)"
            ]
          },
          "metadata": {
            "tags": []
          },
          "execution_count": 17
        }
      ]
    },
    {
      "cell_type": "markdown",
      "metadata": {
        "id": "7gZ3lSC-qN7z"
      },
      "source": [
        "Print the best test score and best parameters.  They are fields in `estimator`.  If you did it correctly, it should be a little higher than the logistic regression (about 0.97 to 0.98 accuracy)."
      ]
    },
    {
      "cell_type": "code",
      "metadata": {
        "id": "U2dfb1RGqN7z",
        "colab": {
          "base_uri": "https://localhost:8080/"
        },
        "outputId": "6345c524-aa85-417e-eba8-dd71133f1431"
      },
      "source": [
        "# TODO\n",
        "print('best test score = ', estimator.best_score_)\n",
        "print('best parameters = ', estimator.best_params_)"
      ],
      "execution_count": 18,
      "outputs": [
        {
          "output_type": "stream",
          "text": [
            "best test score =  0.9888888888888889\n",
            "best parameters =  {'pca__n_components': 7, 'svc__C': 1.0, 'svc__gamma': 0.01}\n"
          ],
          "name": "stdout"
        }
      ]
    },
    {
      "cell_type": "markdown",
      "metadata": {
        "id": "_WlC5CvKqN7z"
      },
      "source": [
        "Finally, you can get the test score for all the parameter choices from \n",
        "\n",
        "    test_score = estimator.cv_results_['mean_test_score']\n",
        "    \n",
        "Use the `imshow` command to plot the mean test score over `gamma` and `C` for the value `n_components=5`."
      ]
    },
    {
      "cell_type": "code",
      "metadata": {
        "id": "TrzErP7nqN7z",
        "colab": {
          "base_uri": "https://localhost:8080/",
          "height": 295
        },
        "outputId": "fb3b68a9-7510-49b9-a76c-d6e0c5672864"
      },
      "source": [
        "# TODO\n",
        "test_score = estimator.cv_results_['mean_test_score']\n",
        "test_score = np.reshape(test_score, (ncomp_test.shape[0],c_test.shape[0],gam_test.shape[0]))\n",
        "plt.imshow(test_score[5,:,:])\n",
        "plt.title('Test Scores (ncomp_test = %d)' %ncomp_test[5])\n",
        "plt.xlabel('Gamma=10^(x-3)')\n",
        "plt.ylabel('C=10^(y-2)')\n",
        "plt.colorbar()\n",
        "plt.show()"
      ],
      "execution_count": 19,
      "outputs": [
        {
          "output_type": "display_data",
          "data": {
            "image/png": "[encoded data removed]",
            "text/plain": [
              "<Figure size 432x288 with 2 Axes>"
            ]
          },
          "metadata": {
            "tags": [],
            "needs_background": "light"
          }
        }
      ]
    },
    {
      "cell_type": "code",
      "metadata": {
        "id": "F4HDU1sxqN7z"
      },
      "source": [
        ""
      ],
      "execution_count": null,
      "outputs": []
    },
    {
      "cell_type": "code",
      "metadata": {
        "id": "SB_EjZPlqN7z"
      },
      "source": [
        ""
      ],
      "execution_count": null,
      "outputs": []
    }
  ]
}