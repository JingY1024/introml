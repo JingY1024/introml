{
  "nbformat": 4,
  "nbformat_minor": 0,
  "metadata": {
    "anaconda-cloud": {},
    "kernelspec": {
      "display_name": "Python 3",
      "language": "python",
      "name": "python3"
    },
    "language_info": {
      "codemirror_mode": {
        "name": "ipython",
        "version": 3
      },
      "file_extension": ".py",
      "mimetype": "text/x-python",
      "name": "python",
      "nbconvert_exporter": "python",
      "pygments_lexer": "ipython3",
      "version": "3.8.3"
    },
    "colab": {
      "name": "“lab_music_partial.ipynb”的副本",
      "provenance": [],
      "include_colab_link": true
    }
  },
  "cells": [
    {
      "cell_type": "markdown",
      "metadata": {
        "id": "view-in-github",
        "colab_type": "text"
      },
      "source": [
        "<a href=\"https://colab.research.google.com/github/JingY1024/introml/blob/master/lab9_yj1586.ipynb\" target=\"_parent\"><img src=\"https://colab.research.google.com/assets/colab-badge.svg\" alt=\"Open In Colab\"/></a>"
      ]
    },
    {
      "cell_type": "markdown",
      "metadata": {
        "id": "FyF45-Pk2TaE"
      },
      "source": [
        "# Lab:  Neural Networks for Music Classification\n",
        "\n",
        "In addition to the concepts in the [MNIST neural network demo](./demo2_mnist_neural.ipynb), in this lab, you will learn to:\n",
        "* Load a file from a URL\n",
        "* Extract simple features from audio samples for machine learning tasks such as speech recognition and classification\n",
        "* Build a simple neural network for music classification using these features\n",
        "* Use a callback to store the loss and accuracy history in the training process\n",
        "* Optimize the learning rate of the neural network\n",
        "\n",
        "To illustrate the basic concepts, we will look at a relatively simple music classification problem.  Given a sample of music, we want to determine which instrument (e.g. trumpet, violin, piano) is playing.  This dataset was generously supplied by [Prof. Juan Bello](http://steinhardt.nyu.edu/faculty/Juan_Pablo_Bello) at NYU Stenihardt  and his former PhD student Eric Humphrey (now at Spotify).  They have a complete website dedicated to deep learning methods in music informatics:\n",
        "\n",
        "http://marl.smusic.nyu.edu/wordpress/projects/feature-learning-deep-architectures/deep-learning-python-tutorial/\n",
        "\n",
        "You can also check out Juan's <a href=\"http://www.nyu.edu/classes/bello/ACA.html\">course</a>.\n",
        "\n"
      ]
    },
    {
      "cell_type": "markdown",
      "metadata": {
        "id": "lcuSjcxf2TaF"
      },
      "source": [
        "## Loading Tensorflow\n",
        "\n",
        "Before starting this lab, you will need to install [Tensorflow](https://www.tensorflow.org/install/).  If you are using [Google colaboratory](https://colab.research.google.com), Tensorflow is already installed.  Run the following command to ensure Tensorflow is installed."
      ]
    },
    {
      "cell_type": "code",
      "metadata": {
        "id": "jR5yrVaE2TaF"
      },
      "source": [
        "import tensorflow as tf"
      ],
      "execution_count": 1,
      "outputs": []
    },
    {
      "cell_type": "markdown",
      "metadata": {
        "id": "HMSQjxEC2TaJ"
      },
      "source": [
        "Then, load the other packages."
      ]
    },
    {
      "cell_type": "code",
      "metadata": {
        "id": "cKuO26Yz2TaJ"
      },
      "source": [
        "import numpy as np\n",
        "import matplotlib\n",
        "import matplotlib.pyplot as plt"
      ],
      "execution_count": 2,
      "outputs": []
    },
    {
      "cell_type": "markdown",
      "metadata": {
        "id": "R84l13iL2TaL"
      },
      "source": [
        "## Audio Feature Extraction with Librosa\n",
        "\n",
        "The key to audio classification is to extract the correct features. In addition to `keras`, we will need the `librosa` package.  The `librosa` package in python has a rich set of methods extracting the features of audio samples commonly used in machine learning tasks such as speech recognition and sound classification. \n",
        "\n",
        "Installation instructions and complete documentation for the package are given on the [librosa main page](https://librosa.github.io/librosa/).  On most systems, you should be able to simply use:\n",
        "\n",
        "    pip install librosa\n",
        "    \n",
        "For Unix, you may need to load some additional packages:\n",
        "\n",
        "    sudo apt-get install build-essential\n",
        "    sudo apt-get install libxext-dev python-qt4 qt4-dev-tools\n",
        "    pip install librosa\n",
        "    \n",
        "After you have installed the package, try to import it."
      ]
    },
    {
      "cell_type": "code",
      "metadata": {
        "id": "OgCStkXf2TaM"
      },
      "source": [
        "import librosa\n",
        "import librosa.display\n",
        "import librosa.feature"
      ],
      "execution_count": 4,
      "outputs": []
    },
    {
      "cell_type": "markdown",
      "metadata": {
        "id": "Vtu1Wvc42TaP"
      },
      "source": [
        "In this lab, we will use a set of music samples from the website:\n",
        "\n",
        "http://theremin.music.uiowa.edu\n",
        "\n",
        "This website has a great set of samples for audio processing.  Look on the web for how to use the `requests.get` and `file.write` commands to load the file at the URL provided into your working directory.\n",
        "\n",
        "You can play the audio sample by copying the file to your local machine and playing it on any media player.  If you listen to it you will hear a soprano saxaphone (with vibrato) playing four notes (C, C#, D, Eb)."
      ]
    },
    {
      "cell_type": "code",
      "metadata": {
        "id": "LoM2Yb9h2TaP"
      },
      "source": [
        "import requests\n",
        "fn = \"SopSax.Vib.pp.C6Eb6.aiff\"\n",
        "url = \"http://theremin.music.uiowa.edu/sound files/MIS/Woodwinds/sopranosaxophone/\"+fn\n",
        "\n",
        "# TODO:  Load the file from url and save it in a file under the name fn\n",
        "r = requests.get(url)\n",
        "with open(fn,'wb') as f:\n",
        "    f.write(r.content)"
      ],
      "execution_count": 5,
      "outputs": []
    },
    {
      "cell_type": "markdown",
      "metadata": {
        "id": "3juGvJAz2TaR"
      },
      "source": [
        "Next, use `librosa` command `librosa.load` to read the audio file with filename `fn` and get the samples `y` and sample rate `sr`."
      ]
    },
    {
      "cell_type": "code",
      "metadata": {
        "id": "DbT55uNN2TaS"
      },
      "source": [
        "# TODO\n",
        "y, sr = librosa.load(fn)"
      ],
      "execution_count": 6,
      "outputs": []
    },
    {
      "cell_type": "markdown",
      "metadata": {
        "id": "XgLr67Vt2TaU"
      },
      "source": [
        "Extracting features from audio files is an entire subject on its own right.  A commonly used set of features are called the Mel Frequency Cepstral Coefficients (MFCCs).  These are derived from the so-called mel spectrogram which is something like a regular spectrogram, but the power and frequency are represented in log scale, which more naturally aligns with human perceptual processing.  You can run the code below to display the mel spectrogram from the audio sample.\n",
        "\n",
        "You can easily see the four notes played in the audio track.  You also see the 'harmonics' of each notes, which are other tones at integer multiples of the fundamental frequency of each note."
      ]
    },
    {
      "cell_type": "code",
      "metadata": {
        "id": "eTHDElpr2TaX",
        "outputId": "ea2e902f-6075-467b-fdfb-6972d6975992",
        "colab": {
          "base_uri": "https://localhost:8080/",
          "height": 297
        }
      },
      "source": [
        "S = librosa.feature.melspectrogram(y=y, sr=sr, n_mels=128, fmax=8000)\n",
        "librosa.display.specshow(librosa.amplitude_to_db(S),\n",
        "                         y_axis='mel', fmax=8000, x_axis='time')\n",
        "plt.colorbar(format='%+2.0f dB')\n",
        "plt.title('Mel spectrogram')\n",
        "plt.tight_layout()"
      ],
      "execution_count": 7,
      "outputs": [
        {
          "output_type": "display_data",
          "data": {
            "image/png": "[encoded data removed]",
            "text/plain": [
              "<Figure size 432x288 with 2 Axes>"
            ]
          },
          "metadata": {
            "tags": [],
            "needs_background": "light"
          }
        }
      ]
    },
    {
      "cell_type": "markdown",
      "metadata": {
        "id": "MoroK8Yh2TaZ"
      },
      "source": [
        "## Downloading the Data\n",
        "\n",
        "Using the MFCC features described above, Eric Humphrey and Juan Bellow have created a complete data set that can used for instrument classification.  Essentially, they collected a number of data files from the website above.  For each audio file, the segmented the track into notes and then extracted 120 MFCCs for each note.  The goal is to recognize the instrument from the 120 MFCCs.  The process of feature extraction is quite involved.  So, we will just use their processed data provided at:\n",
        "\n",
        "https://github.com/marl/dl4mir-tutorial/blob/master/README.md\n",
        "\n",
        "Note the password.  Load the four files into some directory, say  `instrument_dataset`.  Then, load them with the commands."
      ]
    },
    {
      "cell_type": "code",
      "metadata": {
        "id": "0qUFLIw92Taa"
      },
      "source": [
        "data_dir = '../instrument_dataset/'\n",
        "Xtr = np.load(data_dir+'uiowa_train_data.npy')\n",
        "ytr = np.load(data_dir+'uiowa_train_labels.npy')\n",
        "Xts = np.load(data_dir+'uiowa_test_data.npy')\n",
        "yts = np.load(data_dir+'uiowa_test_labels.npy')"
      ],
      "execution_count": 10,
      "outputs": []
    },
    {
      "cell_type": "markdown",
      "metadata": {
        "id": "OI-kF_bk2Tac"
      },
      "source": [
        "Looking at the data files:\n",
        "* What are the number of training and test samples?\n",
        "* What is the number of features for each sample?\n",
        "* How many classes (i.e. instruments) are there per class?\n"
      ]
    },
    {
      "cell_type": "code",
      "metadata": {
        "id": "TtAQubE92Tac",
        "outputId": "ae3d4b86-9cb7-4b11-9e83-bdd11a2418f2",
        "colab": {
          "base_uri": "https://localhost:8080/"
        }
      },
      "source": [
        "# TODO\n",
        "print(\"The number of traning samples is {}.\".format(Xtr.shape[0]))\n",
        "print(\"The number of test samples is {}.\".format(Xts.shape[0]))\n",
        "print(\"The number of features for each sample is {}.\".format(Xtr.shape[1]))\n",
        "print(\"The number of classes is {}.\".format(max(yts)+1))"
      ],
      "execution_count": 11,
      "outputs": [
        {
          "output_type": "stream",
          "text": [
            "The number of traning samples is 66247.\n",
            "The number of test samples is 14904.\n",
            "The number of features for each sample is 120.\n",
            "The number of classes is 10.\n"
          ],
          "name": "stdout"
        }
      ]
    },
    {
      "cell_type": "markdown",
      "metadata": {
        "id": "IGkRPyJB2Tae"
      },
      "source": [
        "Before continuing, you must scale the training and test data, `Xtr` and `Xts`.  Compute the mean and std deviation of each feature in `Xtr` and create a new training data set, `Xtr_scale`, by subtracting the mean and dividing by the std deviation.  Also compute a scaled test data set, `Xts_scale` using the mean and std deviation learned from the training data set."
      ]
    },
    {
      "cell_type": "code",
      "metadata": {
        "id": "QHitUIhy2Tae"
      },
      "source": [
        "# TODO Scale the training and test matrices\n",
        "Xtr_mean = np.mean(Xtr, axis=0)\n",
        "Xtr_std = np.std(Xtr, axis=0)\n",
        "Xtr_scale = (Xtr - Xtr_mean[None,:])/Xtr_std[None,:]\n",
        "Xts_mean = np.mean(Xts, axis=0)\n",
        "Xts_std = np.std(Xts, axis=0)\n",
        "Xts_scale = (Xts - Xts_mean[None,:])/Xts_std[None,:]"
      ],
      "execution_count": 12,
      "outputs": []
    },
    {
      "cell_type": "markdown",
      "metadata": {
        "collapsed": true,
        "id": "7A9Fa3U-2Tag"
      },
      "source": [
        "## Building a Neural Network Classifier\n",
        "\n",
        "Following the example in [MNIST neural network demo](./mnist_neural.ipynb), clear the keras session.  Then, create a neural network `model` with:\n",
        "* `nh=256` hidden units\n",
        "* `sigmoid` activation\n",
        "* select the input and output shapes correctly\n",
        "* print the model summary"
      ]
    },
    {
      "cell_type": "code",
      "metadata": {
        "id": "3h2qL1_82Tag"
      },
      "source": [
        "from tensorflow.keras.models import Model, Sequential\n",
        "from tensorflow.keras.layers import Dense, Activation\n",
        "import tensorflow.keras.backend as K\n"
      ],
      "execution_count": 13,
      "outputs": []
    },
    {
      "cell_type": "code",
      "metadata": {
        "id": "iPiggT542Tai"
      },
      "source": [
        "# TODO clear session\n",
        "K.clear_session()"
      ],
      "execution_count": 14,
      "outputs": []
    },
    {
      "cell_type": "code",
      "metadata": {
        "id": "7axgkOHh2Tak"
      },
      "source": [
        "# TODO: construct the model\n",
        "nin = Xtr_scale.shape[1]  # dimension of input data\n",
        "nh = 256                  # number of hidden units\n",
        "nout = int(np.max(ytr)+1) # number of outputs = 10 since there are 10 classes\n",
        "model = Sequential()\n",
        "model.add(Dense(units=nh, input_shape=(nin,), activation='sigmoid', name='hidden'))\n",
        "model.add(Dense(units=nout, activation='softmax', name='output'))"
      ],
      "execution_count": 15,
      "outputs": []
    },
    {
      "cell_type": "code",
      "metadata": {
        "id": "dqDaSaYV2Tan",
        "outputId": "8e1b95cc-45ef-438d-875f-9d38bbb64f19",
        "colab": {
          "base_uri": "https://localhost:8080/"
        }
      },
      "source": [
        "# TODO:  Print the model summary\n",
        "model.summary()"
      ],
      "execution_count": 16,
      "outputs": [
        {
          "output_type": "stream",
          "text": [
            "Model: \"sequential\"\n",
            "_________________________________________________________________\n",
            "Layer (type)                 Output Shape              Param #   \n",
            "=================================================================\n",
            "hidden (Dense)               (None, 256)               30976     \n",
            "_________________________________________________________________\n",
            "output (Dense)               (None, 10)                2570      \n",
            "=================================================================\n",
            "Total params: 33,546\n",
            "Trainable params: 33,546\n",
            "Non-trainable params: 0\n",
            "_________________________________________________________________\n"
          ],
          "name": "stdout"
        }
      ]
    },
    {
      "cell_type": "markdown",
      "metadata": {
        "id": "9aes6wKM2Tao"
      },
      "source": [
        "Create an optimizer and compile the model.  Select the appropriate loss function and metrics.  For the optimizer, use the Adam optimizer with a learning rate of 0.001"
      ]
    },
    {
      "cell_type": "code",
      "metadata": {
        "scrolled": true,
        "id": "qJb2VdaK2Tap"
      },
      "source": [
        "from tensorflow.keras import optimizers# TODO\n",
        "opt = optimizers.Adam(lr=0.001) \n",
        "model.compile(optimizer=opt, loss='sparse_categorical_crossentropy', \n",
        "              metrics=['accuracy'])"
      ],
      "execution_count": 17,
      "outputs": []
    },
    {
      "cell_type": "markdown",
      "metadata": {
        "id": "By7r9AHH2Tar"
      },
      "source": [
        "Fit the model for 10 epochs using the scaled data for both the training and validation.  Use the `validation_data` option to pass the test data.  Also, pass the callback class create above.  Use a batch size of 100.  Your final accuracy should be >99%."
      ]
    },
    {
      "cell_type": "code",
      "metadata": {
        "scrolled": true,
        "id": "CymjmhjX2Tar",
        "outputId": "eca037e9-c7a0-44fd-c2d3-168f3355d4b0",
        "colab": {
          "base_uri": "https://localhost:8080/"
        }
      },
      "source": [
        "# TODO\n",
        "batch_size = 100\n",
        "epochs = 10\n",
        "hist = model.fit(Xtr_scale, ytr, epochs=epochs, batch_size=batch_size, \n",
        "                 validation_data=(Xts_scale,yts))"
      ],
      "execution_count": 19,
      "outputs": [
        {
          "output_type": "stream",
          "text": [
            "Epoch 1/10\n",
            "663/663 [==============================] - 2s 2ms/step - loss: 0.3579 - accuracy: 0.9034 - val_loss: 0.1920 - val_accuracy: 0.9497\n",
            "Epoch 2/10\n",
            "663/663 [==============================] - 2s 2ms/step - loss: 0.1025 - accuracy: 0.9755 - val_loss: 0.1329 - val_accuracy: 0.9579\n",
            "Epoch 3/10\n",
            "663/663 [==============================] - 2s 2ms/step - loss: 0.0601 - accuracy: 0.9858 - val_loss: 0.1226 - val_accuracy: 0.9567\n",
            "Epoch 4/10\n",
            "663/663 [==============================] - 1s 2ms/step - loss: 0.0423 - accuracy: 0.9893 - val_loss: 0.1360 - val_accuracy: 0.9457\n",
            "Epoch 5/10\n",
            "663/663 [==============================] - 1s 2ms/step - loss: 0.0321 - accuracy: 0.9921 - val_loss: 0.1248 - val_accuracy: 0.9533\n",
            "Epoch 6/10\n",
            "663/663 [==============================] - 1s 2ms/step - loss: 0.0252 - accuracy: 0.9933 - val_loss: 0.1324 - val_accuracy: 0.9491\n",
            "Epoch 7/10\n",
            "663/663 [==============================] - 1s 2ms/step - loss: 0.0206 - accuracy: 0.9948 - val_loss: 0.1597 - val_accuracy: 0.9395\n",
            "Epoch 8/10\n",
            "663/663 [==============================] - 1s 2ms/step - loss: 0.0174 - accuracy: 0.9955 - val_loss: 0.1982 - val_accuracy: 0.9315\n",
            "Epoch 9/10\n",
            "663/663 [==============================] - 1s 2ms/step - loss: 0.0147 - accuracy: 0.9964 - val_loss: 0.1609 - val_accuracy: 0.9437\n",
            "Epoch 10/10\n",
            "663/663 [==============================] - 1s 2ms/step - loss: 0.0127 - accuracy: 0.9968 - val_loss: 0.1923 - val_accuracy: 0.9355\n"
          ],
          "name": "stdout"
        }
      ]
    },
    {
      "cell_type": "markdown",
      "metadata": {
        "id": "oP8DmU8f2Tat"
      },
      "source": [
        "Plot the validation accuracy saved in `hist.history` dictionary. This gives one accuracy value per epoch.  You should see that the validation accuracy saturates at a little higher than 99%.  After that it \"bounces around\" due to the noise in the stochastic gradient descent."
      ]
    },
    {
      "cell_type": "code",
      "metadata": {
        "id": "XTbNVuQN2Tat",
        "outputId": "0cb5cd6f-4041-4a2b-d11c-6971b6074d26",
        "colab": {
          "base_uri": "https://localhost:8080/",
          "height": 280
        }
      },
      "source": [
        "# TODO\n",
        "plt.plot(hist.epoch,hist.history['accuracy'])\n",
        "plt.grid()\n",
        "plt.xlabel('Epoch')\n",
        "plt.ylabel('Validation Accuracy')\n",
        "plt.show()"
      ],
      "execution_count": 21,
      "outputs": [
        {
          "output_type": "display_data",
          "data": {
            "image/png": "[encoded data removed]",
            "text/plain": [
              "<Figure size 432x288 with 1 Axes>"
            ]
          },
          "metadata": {
            "tags": [],
            "needs_background": "light"
          }
        }
      ]
    },
    {
      "cell_type": "markdown",
      "metadata": {
        "id": "mYzbPMsC2Tav"
      },
      "source": [
        "Plot the loss values saved in the `hist.history` dictionary.  You should see that the loss is steadily decreasing.  Use the `semilogy` plot."
      ]
    },
    {
      "cell_type": "code",
      "metadata": {
        "id": "ofKfBAUN2Tav",
        "outputId": "f7eff738-460b-484f-dfcf-fb418dd423ff",
        "colab": {
          "base_uri": "https://localhost:8080/",
          "height": 279
        }
      },
      "source": [
        "# TODO\n",
        "plt.semilogy(hist.epoch,hist.history['loss'])\n",
        "plt.xlabel('Epoch')\n",
        "plt.ylabel('Training Loss')\n",
        "plt.grid()\n",
        "plt.show()"
      ],
      "execution_count": 22,
      "outputs": [
        {
          "output_type": "display_data",
          "data": {
            "image/png": "[encoded data removed]",
            "text/plain": [
              "<Figure size 432x288 with 1 Axes>"
            ]
          },
          "metadata": {
            "tags": [],
            "needs_background": "light"
          }
        }
      ]
    },
    {
      "cell_type": "markdown",
      "metadata": {
        "id": "hgO_vaYB2Tax"
      },
      "source": [
        "## Optimizing the Learning Rate\n",
        "\n",
        "One challenge in training neural networks is the selection of the learning rate.  Rerun the above code, trying four learning rates as shown in the vector `rates`.  For each learning rate:\n",
        "* clear the session\n",
        "* construct the network\n",
        "* select the optimizer.  Use the Adam optimizer with the appropriate learrning rate.\n",
        "* train the model for 20 epochs\n",
        "* save the accuracy and losses"
      ]
    },
    {
      "cell_type": "code",
      "metadata": {
        "id": "42T2scsG2Tax",
        "outputId": "e9d847f1-af05-4c17-ad41-3e129b2c5b8d",
        "colab": {
          "base_uri": "https://localhost:8080/"
        }
      },
      "source": [
        "rates = [0.01,0.001,0.0001]\n",
        "batch_size = 100\n",
        "loss_hist = []\n",
        "\n",
        "# TODO\n",
        "acc_hist = []\n",
        "val_acc_hist = []\n",
        "for i, lr in enumerate(rates):\n",
        "    K.clear_session()\n",
        "    model = Sequential()\n",
        "    model.add(Dense(units=nh, input_shape=(nin,), activation='sigmoid', name='hidden'))\n",
        "    model.add(Dense(units=nout, activation='softmax', name='output'))\n",
        "    # Print the model summary\n",
        "    model.summary()\n",
        "    # Oprimizer\n",
        "    opt = optimizers.Adam(lr=lr) \n",
        "    # Model\n",
        "    model.compile(optimizer=opt,\n",
        "              loss='sparse_categorical_crossentropy',\n",
        "              metrics=['accuracy'])\n",
        "    hist = model.fit(Xtr_scale, ytr, epochs=epochs, batch_size=batch_size, \n",
        "                     validation_data=(Xts_scale,yts))\n",
        "    loss_hist.append(hist.history['loss'])\n",
        "    acc_hist.append(hist.history['accuracy'])\n",
        "    val_acc_hist.append(hist.history['val_accuracy'])"
      ],
      "execution_count": 23,
      "outputs": [
        {
          "output_type": "stream",
          "text": [
            "Model: \"sequential\"\n",
            "_________________________________________________________________\n",
            "Layer (type)                 Output Shape              Param #   \n",
            "=================================================================\n",
            "hidden (Dense)               (None, 256)               30976     \n",
            "_________________________________________________________________\n",
            "output (Dense)               (None, 10)                2570      \n",
            "=================================================================\n",
            "Total params: 33,546\n",
            "Trainable params: 33,546\n",
            "Non-trainable params: 0\n",
            "_________________________________________________________________\n",
            "Epoch 1/10\n",
            "663/663 [==============================] - 2s 3ms/step - loss: 0.1100 - accuracy: 0.9659 - val_loss: 0.2435 - val_accuracy: 0.9030\n",
            "Epoch 2/10\n",
            "663/663 [==============================] - 1s 2ms/step - loss: 0.0278 - accuracy: 0.9912 - val_loss: 0.1807 - val_accuracy: 0.9440\n",
            "Epoch 3/10\n",
            "663/663 [==============================] - 2s 2ms/step - loss: 0.0241 - accuracy: 0.9921 - val_loss: 0.4181 - val_accuracy: 0.8916\n",
            "Epoch 4/10\n",
            "663/663 [==============================] - 1s 2ms/step - loss: 0.0183 - accuracy: 0.9940 - val_loss: 0.3712 - val_accuracy: 0.9112\n",
            "Epoch 5/10\n",
            "663/663 [==============================] - 1s 2ms/step - loss: 0.0137 - accuracy: 0.9953 - val_loss: 0.3638 - val_accuracy: 0.9190\n",
            "Epoch 6/10\n",
            "663/663 [==============================] - 1s 2ms/step - loss: 0.0145 - accuracy: 0.9951 - val_loss: 0.4875 - val_accuracy: 0.9080\n",
            "Epoch 7/10\n",
            "663/663 [==============================] - 2s 2ms/step - loss: 0.0137 - accuracy: 0.9956 - val_loss: 0.5940 - val_accuracy: 0.8965\n",
            "Epoch 8/10\n",
            "663/663 [==============================] - 2s 2ms/step - loss: 0.0113 - accuracy: 0.9962 - val_loss: 0.7484 - val_accuracy: 0.8886\n",
            "Epoch 9/10\n",
            "663/663 [==============================] - 2s 2ms/step - loss: 0.0158 - accuracy: 0.9953 - val_loss: 0.5680 - val_accuracy: 0.9004\n",
            "Epoch 10/10\n",
            "663/663 [==============================] - 2s 2ms/step - loss: 0.0115 - accuracy: 0.9961 - val_loss: 0.4233 - val_accuracy: 0.9194\n",
            "Model: \"sequential\"\n",
            "_________________________________________________________________\n",
            "Layer (type)                 Output Shape              Param #   \n",
            "=================================================================\n",
            "hidden (Dense)               (None, 256)               30976     \n",
            "_________________________________________________________________\n",
            "output (Dense)               (None, 10)                2570      \n",
            "=================================================================\n",
            "Total params: 33,546\n",
            "Trainable params: 33,546\n",
            "Non-trainable params: 0\n",
            "_________________________________________________________________\n",
            "Epoch 1/10\n",
            "663/663 [==============================] - 2s 2ms/step - loss: 0.3681 - accuracy: 0.8996 - val_loss: 0.1764 - val_accuracy: 0.9612\n",
            "Epoch 2/10\n",
            "663/663 [==============================] - 1s 2ms/step - loss: 0.1042 - accuracy: 0.9747 - val_loss: 0.1303 - val_accuracy: 0.9582\n",
            "Epoch 3/10\n",
            "663/663 [==============================] - 2s 2ms/step - loss: 0.0612 - accuracy: 0.9854 - val_loss: 0.1260 - val_accuracy: 0.9559\n",
            "Epoch 4/10\n",
            "663/663 [==============================] - 1s 2ms/step - loss: 0.0428 - accuracy: 0.9894 - val_loss: 0.1532 - val_accuracy: 0.9398\n",
            "Epoch 5/10\n",
            "663/663 [==============================] - 1s 2ms/step - loss: 0.0325 - accuracy: 0.9914 - val_loss: 0.1442 - val_accuracy: 0.9446\n",
            "Epoch 6/10\n",
            "663/663 [==============================] - 2s 2ms/step - loss: 0.0260 - accuracy: 0.9931 - val_loss: 0.1235 - val_accuracy: 0.9557\n",
            "Epoch 7/10\n",
            "663/663 [==============================] - 2s 2ms/step - loss: 0.0213 - accuracy: 0.9945 - val_loss: 0.1123 - val_accuracy: 0.9601\n",
            "Epoch 8/10\n",
            "663/663 [==============================] - 2s 2ms/step - loss: 0.0177 - accuracy: 0.9953 - val_loss: 0.1628 - val_accuracy: 0.9397\n",
            "Epoch 9/10\n",
            "663/663 [==============================] - 2s 2ms/step - loss: 0.0152 - accuracy: 0.9959 - val_loss: 0.1842 - val_accuracy: 0.9342\n",
            "Epoch 10/10\n",
            "663/663 [==============================] - 2s 2ms/step - loss: 0.0133 - accuracy: 0.9967 - val_loss: 0.1610 - val_accuracy: 0.9449\n",
            "Model: \"sequential\"\n",
            "_________________________________________________________________\n",
            "Layer (type)                 Output Shape              Param #   \n",
            "=================================================================\n",
            "hidden (Dense)               (None, 256)               30976     \n",
            "_________________________________________________________________\n",
            "output (Dense)               (None, 10)                2570      \n",
            "=================================================================\n",
            "Total params: 33,546\n",
            "Trainable params: 33,546\n",
            "Non-trainable params: 0\n",
            "_________________________________________________________________\n",
            "Epoch 1/10\n",
            "663/663 [==============================] - 2s 2ms/step - loss: 1.1123 - accuracy: 0.6574 - val_loss: 0.7915 - val_accuracy: 0.7352\n",
            "Epoch 2/10\n",
            "663/663 [==============================] - 1s 2ms/step - loss: 0.5476 - accuracy: 0.8496 - val_loss: 0.5223 - val_accuracy: 0.8596\n",
            "Epoch 3/10\n",
            "663/663 [==============================] - 1s 2ms/step - loss: 0.3785 - accuracy: 0.9131 - val_loss: 0.3907 - val_accuracy: 0.9065\n",
            "Epoch 4/10\n",
            "663/663 [==============================] - 1s 2ms/step - loss: 0.2924 - accuracy: 0.9347 - val_loss: 0.3123 - val_accuracy: 0.9302\n",
            "Epoch 5/10\n",
            "663/663 [==============================] - 1s 2ms/step - loss: 0.2382 - accuracy: 0.9468 - val_loss: 0.2606 - val_accuracy: 0.9430\n",
            "Epoch 6/10\n",
            "663/663 [==============================] - 2s 2ms/step - loss: 0.1998 - accuracy: 0.9547 - val_loss: 0.2259 - val_accuracy: 0.9513\n",
            "Epoch 7/10\n",
            "663/663 [==============================] - 2s 2ms/step - loss: 0.1704 - accuracy: 0.9607 - val_loss: 0.2000 - val_accuracy: 0.9514\n",
            "Epoch 8/10\n",
            "663/663 [==============================] - 2s 2ms/step - loss: 0.1472 - accuracy: 0.9654 - val_loss: 0.1802 - val_accuracy: 0.9536\n",
            "Epoch 9/10\n",
            "663/663 [==============================] - 2s 2ms/step - loss: 0.1285 - accuracy: 0.9695 - val_loss: 0.1739 - val_accuracy: 0.9508\n",
            "Epoch 10/10\n",
            "663/663 [==============================] - 1s 2ms/step - loss: 0.1133 - accuracy: 0.9729 - val_loss: 0.1593 - val_accuracy: 0.9529\n"
          ],
          "name": "stdout"
        }
      ]
    },
    {
      "cell_type": "markdown",
      "metadata": {
        "id": "Y3WK8wX32Taz"
      },
      "source": [
        "Plot the loss funciton vs. the epoch number for all three learning rates on one graph.  You should see that the lower learning rates are more stable, but converge slower."
      ]
    },
    {
      "cell_type": "code",
      "metadata": {
        "id": "FVFdXW7A2Taz",
        "outputId": "2c8956df-d402-4a07-ee69-88500119168d",
        "colab": {
          "base_uri": "https://localhost:8080/",
          "height": 803
        }
      },
      "source": [
        "# TODO\n",
        "x = np.array(range(epochs)) + 1\n",
        "plt.figure()\n",
        "plt.semilogy(x,loss_hist[0],x,loss_hist[1],x,loss_hist[2])\n",
        "plt.legend(('lr = ' + str(rates[0]),'lr = ' + str(rates[1]),'lr = ' + str(rates[2])))\n",
        "plt.grid()\n",
        "plt.xlabel('Epoch')\n",
        "plt.ylabel('Loss Function')\n",
        "plt.show()\n",
        "plt.figure()\n",
        "plt.plot(x,acc_hist[0],x,acc_hist[1],x,acc_hist[2])\n",
        "plt.legend(('lr = ' + str(rates[0]),'lr = ' + str(rates[1]),'lr = ' + str(rates[2])))\n",
        "plt.grid()\n",
        "plt.xlabel('Epoch')\n",
        "plt.ylabel('Accuracy')\n",
        "plt.show()\n",
        "plt.figure()\n",
        "plt.plot(x,val_acc_hist[0],x,val_acc_hist[1],x,val_acc_hist[2])\n",
        "plt.legend(('lr = ' + str(rates[0]),'lr = ' + str(rates[1]),'lr = ' + str(rates[2])))\n",
        "plt.grid()\n",
        "plt.xlabel('Epoch')\n",
        "plt.ylabel('Validation Accuracy')\n",
        "plt.show()"
      ],
      "execution_count": 24,
      "outputs": [
        {
          "output_type": "display_data",
          "data": {
            "image/png": "[encoded data removed]",
            "text/plain": [
              "<Figure size 432x288 with 1 Axes>"
            ]
          },
          "metadata": {
            "tags": [],
            "needs_background": "light"
          }
        },
        {
          "output_type": "display_data",
          "data": {
            "image/png": "[encoded data removed]",
            "text/plain": [
              "<Figure size 432x288 with 1 Axes>"
            ]
          },
          "metadata": {
            "tags": [],
            "needs_background": "light"
          }
        },
        {
          "output_type": "display_data",
          "data": {
            "image/png": "[encoded data removed]",
            "text/plain": [
              "<Figure size 432x288 with 1 Axes>"
            ]
          },
          "metadata": {
            "tags": [],
            "needs_background": "light"
          }
        }
      ]
    },
    {
      "cell_type": "code",
      "metadata": {
        "id": "NssR9MKM2Ta1"
      },
      "source": [
        ""
      ],
      "execution_count": null,
      "outputs": []
    },
    {
      "cell_type": "code",
      "metadata": {
        "id": "nKsGYoHN2Ta3"
      },
      "source": [
        ""
      ],
      "execution_count": null,
      "outputs": []
    }
  ]
}