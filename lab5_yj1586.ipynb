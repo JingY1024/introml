{
  "nbformat": 4,
  "nbformat_minor": 0,
  "metadata": {
    "kernelspec": {
      "display_name": "Python 3",
      "language": "python",
      "name": "python3"
    },
    "language_info": {
      "codemirror_mode": {
        "name": "ipython",
        "version": 3
      },
      "file_extension": ".py",
      "mimetype": "text/x-python",
      "name": "python",
      "nbconvert_exporter": "python",
      "pygments_lexer": "ipython3",
      "version": "3.6.7"
    },
    "colab": {
      "name": "“lab_eeg_partial.ipynb”的副本",
      "provenance": [],
      "include_colab_link": true
    }
  },
  "cells": [
    {
      "cell_type": "markdown",
      "metadata": {
        "id": "view-in-github",
        "colab_type": "text"
      },
      "source": [
        "<a href=\"https://colab.research.google.com/github/JingY1024/introml/blob/master/lab5_yj1586.ipynb\" target=\"_parent\"><img src=\"https://colab.research.google.com/assets/colab-badge.svg\" alt=\"Open In Colab\"/></a>"
      ]
    },
    {
      "cell_type": "markdown",
      "metadata": {
        "id": "luBIrmJRMgWn"
      },
      "source": [
        "# Lab:  Source Localization for EEG\n",
        "\n",
        "EEG or [Electroencephalography](https://en.wikipedia.org/wiki/Electroencephalography) is a powerful tool for neuroscientists in understanding brain activity.  In EEG, a patient wears a headset with electrodes that measures voltages at a number of points on the scalp.  These voltages arise from ionic currents within the brain.  A common *inverse problem* is to estimate the which parts of the brain caused the measured response.  Source localization is useful in understanding which parts of the brain are involved in certain tasks.  A key challenge in this inverse problem is that the number of unknowns (possible locations in the brain) is much larger than the number of measurements.  In this lab, we will use LASSO regression on a real EEG dataset to overcome this problem and determine the brain region that is active under an auditory stimulus.\n",
        "\n",
        "In addition to the concepts in the [prostate LASSO demo](./demo_prostate.ipynb) you will learn to:\n",
        "* Represent responses of multi-channel time-series data, such as EEG, using linear models\n",
        "* Perform LASSO and Ridge regression\n",
        "* Select the regularization level via cross-validation\n",
        "* Visually compare the sparsity between the solutions\n",
        "\n",
        "We first download standard packages."
      ]
    },
    {
      "cell_type": "code",
      "metadata": {
        "id": "G-SfSr4RMgWo"
      },
      "source": [
        "import numpy as np\n",
        "import matplotlib.pyplot as plt\n",
        "import pickle\n",
        "\n",
        "from sklearn.linear_model import Lasso, Ridge, ElasticNet\n",
        "from sklearn.metrics import r2_score\n",
        "from sklearn.model_selection import train_test_split"
      ],
      "execution_count": 1,
      "outputs": []
    },
    {
      "cell_type": "markdown",
      "metadata": {
        "id": "9yx1CpnnMgWr"
      },
      "source": [
        "## Load the Data\n",
        "\n",
        "The data in this lab is taken from one of the sample datasets in the [MNE website](https://martinos.org/mne/stable/index.html). The sample data is a recording from one subject who experienced some auditory stimulus on the left ear.    \n",
        "\n",
        "The raw data is very large (`1.5G`) and also requires that you install the `mne` python package. To make this lab easier, I have extracted and processed a small section of the data. The following command will download a `pickle` file `eeg_dat.p` to your local machine.  If you do want to create the data yourself, the program to create the data is in this directory in the github repository."
      ]
    },
    {
      "cell_type": "code",
      "metadata": {
        "id": "VUl_DRFqMgWs",
        "outputId": "c8a2511b-f32a-4da9-b07a-619b5a3cc386",
        "colab": {
          "base_uri": "https://localhost:8080/",
          "height": 50
        }
      },
      "source": [
        "fn_src ='https://drive.google.com/uc?export=download&id=1RzQpKONOcXSMxH2ZzOI4iVMiTgD6ttSl'\n",
        "fn_dst ='eeg_dat.p'\n",
        "\n",
        "import os\n",
        "from six.moves import urllib\n",
        "\n",
        "if os.path.isfile(fn_dst):\n",
        "    print('File %s is already downloaded' % fn_dst)\n",
        "else:        \n",
        "    print('Fetching file %s [53MB].  This may take a minute..' % fn_dst)\n",
        "    urllib.request.urlretrieve(fn_src, fn_dst)\n",
        "    print('File %s downloaded' % fn_dst)"
      ],
      "execution_count": 2,
      "outputs": [
        {
          "output_type": "stream",
          "text": [
            "Fetching file eeg_dat.p [53MB].  This may take a minute..\n",
            "File eeg_dat.p downloaded\n"
          ],
          "name": "stdout"
        }
      ]
    },
    {
      "cell_type": "markdown",
      "metadata": {
        "id": "XhjXQ-rPMgWv"
      },
      "source": [
        "Now run the following command which will get the data from the `pickle` file."
      ]
    },
    {
      "cell_type": "code",
      "metadata": {
        "id": "9qZ3iiy7MgWw"
      },
      "source": [
        "import pickle\n",
        "fn = 'eeg_dat.p'\n",
        "with open(fn, 'rb') as fp:\n",
        "    [X,Y] = pickle.load(fp)"
      ],
      "execution_count": 3,
      "outputs": []
    },
    {
      "cell_type": "markdown",
      "metadata": {
        "id": "lqnWS-KaMgWy"
      },
      "source": [
        "To understand the data, there are three key variables:\n",
        "* `nt`    = number of time steps that we measure data\n",
        "* `nchan` = number of channels (i.e. electrodes) measured in each time step\n",
        "* `ncur`  = number of currents in the brain that we want to estimate.  \n",
        "\n",
        "Each current comes from one brain region (called a *voxel*) in either the `x`, `y` or `z` direction.  So,\n",
        "\n",
        "    nvoxels = ncur / 3\n",
        "    \n",
        "The components of the `X` and `Y` matrices are:\n",
        "*  `Y[i,k]` = electric field measurement on channel `i` at time `k`\n",
        "*  `X[i,j]` = sensitivity of channel `i` to current `j`.\n",
        "\n",
        "Using `X.shape` and `Y.shape` compute and print `nt`, `nchan`, `ncur` and `nvoxels`."
      ]
    },
    {
      "cell_type": "code",
      "metadata": {
        "id": "6T1ZJa8VMgWy",
        "outputId": "1763dd03-fa2b-4c9a-e9f9-f55b47aaa045",
        "colab": {
          "base_uri": "https://localhost:8080/",
          "height": 84
        }
      },
      "source": [
        "# TODO\n",
        "nt = Y.shape[1]\n",
        "ncur = X.shape[1]\n",
        "nchan = X.shape[0]\n",
        "nvoxels = ncur / 3\n",
        "print(\"nt = \", nt)\n",
        "print(\"nchan = \", nchan)\n",
        "print(\"ncur  = \", ncur)\n",
        "print(\"nvoxels = \", nvoxels)"
      ],
      "execution_count": 4,
      "outputs": [
        {
          "output_type": "stream",
          "text": [
            "nt =  85\n",
            "nchan =  305\n",
            "ncur  =  22494\n",
            "nvoxels =  7498.0\n"
          ],
          "name": "stdout"
        }
      ]
    },
    {
      "cell_type": "markdown",
      "metadata": {
        "id": "FZgm3JF0MgW1"
      },
      "source": [
        "## Ridge Regression\n",
        "\n",
        "Our goal is to estimate the currents in the brain from the measurements `Y`.  One simple linear model is:\n",
        "\n",
        "    Y[i,k]  = \\sum_j X[i,j]*W[j,k]+ b[k]\n",
        "\n",
        "where `W[j,k]` is the value of current `j` at time `k` and `b[k]` is a bias.  We can solve for the current matrix `W` via linear regression.  \n",
        "\n",
        "Howeever, there is a problem:\n",
        "*  There are `nt x ncur` unknowns in `W`\n",
        "*  There are only `nt x nchan` measurements in `Y`.\n",
        "\n",
        "In this problem, we have:\n",
        "\n",
        "    number of measurements  << number of unknowns\n",
        "    \n",
        "We need to use regularization in these circumstances.  We first try Ridge regression.\n",
        "\n",
        "First split the data into training and test.  Use the `train_test_split` function with `test_size=0.33`."
      ]
    },
    {
      "cell_type": "code",
      "metadata": {
        "id": "FhTSWbQhMgW1"
      },
      "source": [
        "# TODO\n",
        "Xtr,Xts,Ytr,Yts = train_test_split(X,Y,test_size=0.33,shuffle=True) "
      ],
      "execution_count": 5,
      "outputs": []
    },
    {
      "cell_type": "markdown",
      "metadata": {
        "id": "3DHXZZvwMgW3"
      },
      "source": [
        "Use the `Ridge` regression object in `sklearn` to fit the model on the training data.  Use a regularization, `alpha=1`."
      ]
    },
    {
      "cell_type": "code",
      "metadata": {
        "id": "AukuGESjMgW4",
        "outputId": "42cea549-588d-41f2-90c3-ee80088b1b54",
        "colab": {
          "base_uri": "https://localhost:8080/",
          "height": 50
        }
      },
      "source": [
        "# TODO\n",
        "regr = Ridge(alpha=1)\n",
        "regr.fit(Xtr,Ytr)"
      ],
      "execution_count": 6,
      "outputs": [
        {
          "output_type": "execute_result",
          "data": {
            "text/plain": [
              "Ridge(alpha=1, copy_X=True, fit_intercept=True, max_iter=None, normalize=False,\n",
              "      random_state=None, solver='auto', tol=0.001)"
            ]
          },
          "metadata": {
            "tags": []
          },
          "execution_count": 6
        }
      ]
    },
    {
      "cell_type": "markdown",
      "metadata": {
        "id": "DVc_zUoHMgW6"
      },
      "source": [
        "Preict the values `Y` on both the training and test data.  Use the `r2_score` method to measure the `R^2` value on both the training and test.  You will see that `R^2` value is large for the training data, it is very low for the test data.  This suggest that even with regularization, the model is over-fitting the data."
      ]
    },
    {
      "cell_type": "code",
      "metadata": {
        "id": "oBJhA0sgMgW7",
        "outputId": "492c8555-ee72-4ed7-d885-f16f982f9e9b",
        "colab": {
          "base_uri": "https://localhost:8080/",
          "height": 50
        }
      },
      "source": [
        "# TODO\n",
        "Ytr_pred = regr.predict(Xtr)\n",
        "rsq_tr = r2_score(Ytr,Ytr_pred)\n",
        "Yts_pred = regr.predict(Xts)\n",
        "rsq_ts = r2_score(Yts,Yts_pred)\n",
        "print(\"R^2 value of training data is \", rsq_tr)\n",
        "print(\"R^2 value of test data is \", rsq_ts)"
      ],
      "execution_count": 8,
      "outputs": [
        {
          "output_type": "stream",
          "text": [
            "R^2 value of training data is  0.5389845729610868\n",
            "R^2 value of test data is  0.1463675894071339\n"
          ],
          "name": "stdout"
        }
      ]
    },
    {
      "cell_type": "markdown",
      "metadata": {
        "id": "bdwCgE-9MgW9"
      },
      "source": [
        "Next, try to see if we can get a better `R^2` score using different values of `alpha`.  Use cross-validation to measure the test `R^2` for 20 `alpha` values logarithmically spaced from `10^{-2}` to `10^{2}` (use `np.logspace()`).  You can use regular cross-validation.  You do not need to do `K`-fold."
      ]
    },
    {
      "cell_type": "code",
      "metadata": {
        "id": "ACpehX82MgW9"
      },
      "source": [
        "# TODO\n",
        "alphalist = np.logspace(-2,2,20)\n",
        "rsqlist = []\n",
        "for a in alphalist:\n",
        "  regr = Ridge(alpha=a)\n",
        "  regr.fit(Xtr,Ytr)\n",
        "  Yts_pred = regr.predict(Xts)\n",
        "  rsq_ts = r2_score(Yts,Yts_pred)\n",
        "  rsqlist.append(rsq_ts)"
      ],
      "execution_count": 13,
      "outputs": []
    },
    {
      "cell_type": "markdown",
      "metadata": {
        "id": "BjOsRNhSMgW_"
      },
      "source": [
        "Plot the test `R^2` vs. `alpha`.  And print the maximum test `R^2`.  You should see that the maximum test `R^2` is still not very high."
      ]
    },
    {
      "cell_type": "code",
      "metadata": {
        "id": "_kO-8SjEMgXA",
        "outputId": "b22f8dca-e49b-46e3-f6af-f70f67a96644",
        "colab": {
          "base_uri": "https://localhost:8080/",
          "height": 289
        }
      },
      "source": [
        "# TODO\n",
        "rsqlist = np.array(rsqlist)\n",
        "plt.semilogx(alphalist, rsqlist, 'o-')\n",
        "plt.grid()\n",
        "\n",
        "rsqoptidx = np.argmax(rsqlist)\n",
        "print('Maximum test R^2 = %.4f' % rsqlist[rsqoptidx], \"with alpha = %.4f\" % alphalist[rsqoptidx])"
      ],
      "execution_count": 25,
      "outputs": [
        {
          "output_type": "stream",
          "text": [
            "Maximum test R^2 = 0.1812 with alpha = 0.2976\n"
          ],
          "name": "stdout"
        },
        {
          "output_type": "display_data",
          "data": {
            "image/png": "[encoded data removed]",
            "text/plain": [
              "<Figure size 432x288 with 1 Axes>"
            ]
          },
          "metadata": {
            "tags": [],
            "needs_background": "light"
          }
        }
      ]
    },
    {
      "cell_type": "markdown",
      "metadata": {
        "id": "cUGgDbb0MgXC"
      },
      "source": [
        "Now, let's take a look at the solution. \n",
        "\n",
        "* Find the optimal regularization `alpha` from the cross-validation\n",
        "* Re-fit the model at the optimal `alpha`\n",
        "* Get the current matrix `W` from the coefficients in the linear model.  These are stored in `regr.coef_`.  You may need a transpose\n",
        "* For each current `j` compute `Wrms[j] =  sqrt( sum_k W[j,k]**2 )` which is root mean squared current.\n",
        "\n",
        "You will see that the vector `Wrms` is not sparse.  This means that the solution that is found with Ridge regression finds currents in all locations."
      ]
    },
    {
      "cell_type": "code",
      "metadata": {
        "id": "hnJEXygcMgXC",
        "outputId": "a2488e1a-edd9-4fe7-f570-249b55fcd775",
        "colab": {
          "base_uri": "https://localhost:8080/",
          "height": 265
        }
      },
      "source": [
        "# TODO\n",
        "alphaopt = alphalist[rsqoptidx]\n",
        "\n",
        "regr = Ridge(alpha=alphaopt)\n",
        "regr.fit(Xtr,Ytr)\n",
        "\n",
        "W = regr.coef_.T\n",
        "Wrms = np.sqrt(np.sum(W**2, axis=1))\n",
        "\n",
        "plt.plot(Wrms)\n",
        "plt.grid()"
      ],
      "execution_count": 26,
      "outputs": [
        {
          "output_type": "display_data",
          "data": {
            "image/png": "[encoded data removed]",
            "text/plain": [
              "<Figure size 432x288 with 1 Axes>"
            ]
          },
          "metadata": {
            "tags": [],
            "needs_background": "light"
          }
        }
      ]
    },
    {
      "cell_type": "markdown",
      "metadata": {
        "id": "3hqfZbgwMgXF"
      },
      "source": [
        "## LASSO Regression\n",
        "\n",
        "We can improve the estimate by imposing sparsity.  Biologically, we know that only a limited number of brain regions should be involved in the reponse to a particular stimuli.  As a result, we would expect that the current matrix `W[j,k]` to be zero for most values `j,k`.  We can impose this constraint using LASSO regularization.\n",
        "\n",
        "Re-fit the training data using the `Lasso` model with `alpha=1e-3`.  Also set `max_iter=100` and `tol=0.01`.  The LASSO solver is much slower, so this make take a minute."
      ]
    },
    {
      "cell_type": "code",
      "metadata": {
        "id": "nX9GXoerMgXF",
        "outputId": "1a83f8fc-7041-4412-b85d-5e34f56dbca0",
        "colab": {
          "base_uri": "https://localhost:8080/",
          "height": 67
        }
      },
      "source": [
        "# TODO\n",
        "regr = Lasso(alpha = 1e-3,max_iter=100,tol=0.01)\n",
        "regr.fit(Xtr,Ytr)"
      ],
      "execution_count": 30,
      "outputs": [
        {
          "output_type": "execute_result",
          "data": {
            "text/plain": [
              "Lasso(alpha=0.001, copy_X=True, fit_intercept=True, max_iter=100,\n",
              "      normalize=False, positive=False, precompute=False, random_state=None,\n",
              "      selection='cyclic', tol=0.01, warm_start=False)"
            ]
          },
          "metadata": {
            "tags": []
          },
          "execution_count": 30
        }
      ]
    },
    {
      "cell_type": "markdown",
      "metadata": {
        "id": "EIHz8O-pMgXH"
      },
      "source": [
        "Now, test the model on the test data and measure the `R^2` value.  You should get a much better fit than with the Ridge regression solution.  "
      ]
    },
    {
      "cell_type": "code",
      "metadata": {
        "id": "NPwkSZXEMgXI",
        "outputId": "aa3d0713-77f7-47f5-c1e3-907ece5d7d36",
        "colab": {
          "base_uri": "https://localhost:8080/",
          "height": 34
        }
      },
      "source": [
        "# TODO\n",
        "Yts_pred = regr.predict(Xts)\n",
        "rsq_ts = r2_score(Yts, Yts_pred)\n",
        "print(\"R^2 value of test data is \", rsq_ts)"
      ],
      "execution_count": 31,
      "outputs": [
        {
          "output_type": "stream",
          "text": [
            "R^2 value of test data is  0.07363614453137192\n"
          ],
          "name": "stdout"
        }
      ]
    },
    {
      "cell_type": "markdown",
      "metadata": {
        "id": "pqLXLhWaMgXK"
      },
      "source": [
        "We can now search for the optimal `alpha`.  Use cross-validation to find the `alpha` logarithically space between `alpha=10^{-3}` and `alpha=10^{-4}`.  Each fit takes some time, so use only 5 values of `alpha`. Also for each `alpha` store the current matrix.  This way, you will not have to re-fit the model."
      ]
    },
    {
      "cell_type": "code",
      "metadata": {
        "id": "yUd-8AkxMgXK",
        "outputId": "8b56355a-c10a-4046-b313-810c865d848f",
        "colab": {
          "base_uri": "https://localhost:8080/",
          "height": 101
        }
      },
      "source": [
        "# TODO\n",
        "alphalist = np.logspace(-4,-3,5)\n",
        "rsqlist = []\n",
        "Wlist = []\n",
        "\n",
        "for a in alphalist:\n",
        "    regr = Lasso(alpha=a, max_iter=100, tol=0.01)\n",
        "    regr.fit(Xtr,Ytr)\n",
        "    Yts_pred = regr.predict(Xts)\n",
        "    rsq_ts = r2_score(Yts, Yts_pred)\n",
        "    rsqlist.append(rsq_ts)\n",
        "    Wlist.append(regr.coef_.T)\n",
        "    print('Test R^2 = %.4f' % rsq_ts, \"with alpha = %12.4e\" % a)\n"
      ],
      "execution_count": 36,
      "outputs": [
        {
          "output_type": "stream",
          "text": [
            "Test R^2 = 0.3278 with alpha =   1.0000e-04\n",
            "Test R^2 = 0.3338 with alpha =   1.7783e-04\n",
            "Test R^2 = 0.2903 with alpha =   3.1623e-04\n",
            "Test R^2 = 0.2037 with alpha =   5.6234e-04\n",
            "Test R^2 = 0.0736 with alpha =   1.0000e-03\n"
          ],
          "name": "stdout"
        }
      ]
    },
    {
      "cell_type": "markdown",
      "metadata": {
        "id": "7E60xWQ9MgXO"
      },
      "source": [
        "Plot the `r^2` value vs. `alpha`.  Print the optimal `r^2`.  You should see it is much higher than with the best Ridge Regression case."
      ]
    },
    {
      "cell_type": "code",
      "metadata": {
        "id": "wml98d46MgXP",
        "outputId": "e26e7f16-10a1-4d22-f9a0-6d39385a2b78",
        "colab": {
          "base_uri": "https://localhost:8080/",
          "height": 286
        }
      },
      "source": [
        "# TODO\n",
        "rsqlist = np.array(rsqlist)\n",
        "plt.semilogx(alphalist, rsqlist, 'o-')\n",
        "plt.grid()\n",
        "\n",
        "rsqoptidx = np.argmax(rsqlist)\n",
        "print('Maximum test R^2 = %.4f' % rsqlist[rsqoptidx], \"with alpha = %12.4e\" % alphalist[rsqoptidx])"
      ],
      "execution_count": 37,
      "outputs": [
        {
          "output_type": "stream",
          "text": [
            "Maximum test R^2 = 0.3338 with alpha =   1.7783e-04\n"
          ],
          "name": "stdout"
        },
        {
          "output_type": "display_data",
          "data": {
            "image/png": "[encoded data removed]",
            "text/plain": [
              "<Figure size 432x288 with 1 Axes>"
            ]
          },
          "metadata": {
            "tags": [],
            "needs_background": "light"
          }
        }
      ]
    },
    {
      "cell_type": "markdown",
      "metadata": {
        "id": "NwKIb02iMgXQ"
      },
      "source": [
        "Display the current matrix `W` for the optimal `alpha` as you did in the Ridge Regression case.  You will see that is much sparser."
      ]
    },
    {
      "cell_type": "code",
      "metadata": {
        "id": "LUFPSa3DMgXR",
        "outputId": "1eae3034-753b-4611-fb7e-a67b911b8667",
        "colab": {
          "base_uri": "https://localhost:8080/",
          "height": 265
        }
      },
      "source": [
        "# TODO\n",
        "alphaopt = alphalist[rsqoptidx]\n",
        "regr = Lasso(alpha=alphaopt, max_iter=100, tol=0.01)\n",
        "regr.fit(Xtr,Ytr)\n",
        "W = regr.coef_.T\n",
        "Wrms = np.sqrt(np.sum(W**2, axis=1))\n",
        "plt.plot(Wrms)\n",
        "plt.grid()"
      ],
      "execution_count": 39,
      "outputs": [
        {
          "output_type": "display_data",
          "data": {
            "image/png": "[encoded data removed]",
            "text/plain": [
              "<Figure size 432x288 with 1 Axes>"
            ]
          },
          "metadata": {
            "tags": [],
            "needs_background": "light"
          }
        }
      ]
    },
    {
      "cell_type": "markdown",
      "metadata": {
        "id": "5EAt_Dm8MgXT"
      },
      "source": [
        "## More fun\n",
        "\n",
        "If you want to more on this lab:\n",
        "* Install the [MNE python package](https://martinos.org/mne/stable/index.html).  This is an amazing package with many tools for processing EEG data.\n",
        "* In particular, you can use the above results to visualize where in the brain the currents sources are.\n",
        "* You can also improve the fitting with more regularization.  For example, we know that the currents will be non-zero in groups:  If the current is non-zero for one time, it is likely to non-zero for all time.  You can use the Group LASSO method.\n",
        "* You can combine these results to make predictions about what the patient is seeing or hearing or thinking."
      ]
    },
    {
      "cell_type": "code",
      "metadata": {
        "id": "hvklDlm7MgXT"
      },
      "source": [
        ""
      ],
      "execution_count": null,
      "outputs": []
    }
  ]
}