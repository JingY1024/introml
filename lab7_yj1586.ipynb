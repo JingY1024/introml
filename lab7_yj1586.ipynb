{
  "nbformat": 4,
  "nbformat_minor": 0,
  "metadata": {
    "kernelspec": {
      "display_name": "Python 3",
      "language": "python",
      "name": "python3"
    },
    "language_info": {
      "codemirror_mode": {
        "name": "ipython",
        "version": 3
      },
      "file_extension": ".py",
      "mimetype": "text/x-python",
      "name": "python",
      "nbconvert_exporter": "python",
      "pygments_lexer": "ipython3",
      "version": "3.6.7"
    },
    "colab": {
      "name": "“lab_nlls_partial.ipynb”的副本",
      "provenance": [],
      "include_colab_link": true
    }
  },
  "cells": [
    {
      "cell_type": "markdown",
      "metadata": {
        "id": "view-in-github",
        "colab_type": "text"
      },
      "source": [
        "<a href=\"https://colab.research.google.com/github/JingY1024/introml/blob/master/lab7_yj1586.ipynb\" target=\"_parent\"><img src=\"https://colab.research.google.com/assets/colab-badge.svg\" alt=\"Open In Colab\"/></a>"
      ]
    },
    {
      "cell_type": "markdown",
      "metadata": {
        "id": "C8-pVxzeoxeo"
      },
      "source": [
        "# Lab:  Nonlinear Least Squares for Modeling Materials\n",
        "\n",
        "Nonlinear least squares (NLLS) is a widely-used method for modeling data.  In NLLS, we wish to fit a model of the form,\n",
        "\n",
        "     yhat = g(x,w)\n",
        "     \n",
        "where `w` is a vector of paramters and `x` is the vector of predictors.  We find `w` by minimizing a least-squares function \n",
        "\n",
        "     f(w) = \\sum_i (y_i - g(x_i,w))^2\n",
        "     \n",
        "where the summation is over training samples `(x_i,y_i)`.  This is similar to linear least-squares, but the function `g(x,w)` may not be linear in `w`.  In general, this optimization has no closed-form expression.  So numerical optimization must be used.  \n",
        "\n",
        "In this lab, we will implement gradient descent on NLLS in a problem of physical modeling of materials.  Specifically, we will estimate parameters for expansion of copper as a function of temperature using a real dataset.  In doing this lab, you will learn to:\n",
        "* Set up a nonlinear least squares as an unconstrained optimization function\n",
        "* Compute initial parameter estimates for a simple rational model\n",
        "* Compute the gradients of the least squares objective\n",
        "* Implement gradient descent for minimizing the objective\n",
        "* Implement momentum gradient descent\n",
        "* Visualize the convergence of the algorithm\n",
        "\n",
        "We first import some key packages."
      ]
    },
    {
      "cell_type": "code",
      "metadata": {
        "id": "nInYJ-YQoxep"
      },
      "source": [
        "import pandas as pd\n",
        "import numpy as np\n",
        "import matplotlib.pyplot as plt\n",
        "from sklearn.linear_model import Ridge, LinearRegression"
      ],
      "execution_count": 24,
      "outputs": []
    },
    {
      "cell_type": "markdown",
      "metadata": {
        "id": "WYaO7jIooxeu"
      },
      "source": [
        "## Load the Data\n",
        "\n",
        "The NIST agency has an excellent [nonlinear regression website](https://www.itl.nist.gov/div898/strd/nls/nls_main.shtml) that has several datasets for nonlinear regression problems.  In this lab, we will use the data from a NIST study involving the thermal expansion of copper. The response variable is the coefficient of thermal expansion, and the predictor variable is temperature in degrees kelvin.  \n",
        "\n",
        "> Hahn, T., NIST (1979), Copper Thermal Expansion Study.  (unpublished}\n",
        "\n",
        "You can download the data as follows."
      ]
    },
    {
      "cell_type": "code",
      "metadata": {
        "id": "tCE4E7Luoxeu",
        "outputId": "6b37c1d4-0f90-4340-9d69-49994a030a78",
        "colab": {
          "base_uri": "https://localhost:8080/",
          "height": 195
        }
      },
      "source": [
        "url = 'https://itl.nist.gov/div898/strd/nls/data/LINKS/DATA/Hahn1.dat'\n",
        "df = pd.read_csv(url, skiprows=60, sep=' ',skipinitialspace=True, names=['x0','y0','dummy'])\n",
        "df.head()"
      ],
      "execution_count": 25,
      "outputs": [
        {
          "output_type": "execute_result",
          "data": {
            "text/html": [
              "<div>\n",
              "<style scoped>\n",
              "    .dataframe tbody tr th:only-of-type {\n",
              "        vertical-align: middle;\n",
              "    }\n",
              "\n",
              "    .dataframe tbody tr th {\n",
              "        vertical-align: top;\n",
              "    }\n",
              "\n",
              "    .dataframe thead th {\n",
              "        text-align: right;\n",
              "    }\n",
              "</style>\n",
              "<table border=\"1\" class=\"dataframe\">\n",
              "  <thead>\n",
              "    <tr style=\"text-align: right;\">\n",
              "      <th></th>\n",
              "      <th>x0</th>\n",
              "      <th>y0</th>\n",
              "      <th>dummy</th>\n",
              "    </tr>\n",
              "  </thead>\n",
              "  <tbody>\n",
              "    <tr>\n",
              "      <th>0</th>\n",
              "      <td>0.591</td>\n",
              "      <td>24.41</td>\n",
              "      <td>NaN</td>\n",
              "    </tr>\n",
              "    <tr>\n",
              "      <th>1</th>\n",
              "      <td>1.547</td>\n",
              "      <td>34.82</td>\n",
              "      <td>NaN</td>\n",
              "    </tr>\n",
              "    <tr>\n",
              "      <th>2</th>\n",
              "      <td>2.902</td>\n",
              "      <td>44.09</td>\n",
              "      <td>NaN</td>\n",
              "    </tr>\n",
              "    <tr>\n",
              "      <th>3</th>\n",
              "      <td>2.894</td>\n",
              "      <td>45.07</td>\n",
              "      <td>NaN</td>\n",
              "    </tr>\n",
              "    <tr>\n",
              "      <th>4</th>\n",
              "      <td>4.703</td>\n",
              "      <td>54.98</td>\n",
              "      <td>NaN</td>\n",
              "    </tr>\n",
              "  </tbody>\n",
              "</table>\n",
              "</div>"
            ],
            "text/plain": [
              "      x0     y0  dummy\n",
              "0  0.591  24.41    NaN\n",
              "1  1.547  34.82    NaN\n",
              "2  2.902  44.09    NaN\n",
              "3  2.894  45.07    NaN\n",
              "4  4.703  54.98    NaN"
            ]
          },
          "metadata": {
            "tags": []
          },
          "execution_count": 25
        }
      ]
    },
    {
      "cell_type": "markdown",
      "metadata": {
        "id": "gyff4zR5oxex"
      },
      "source": [
        "Extract the `x0` and `y0` into arrays.  Rescale, `x0` and `y0` to values between `0` and `1` by dividing `x0` and `y0` by the maximum value.  Store the scaled values in vectors `x` and `y`.  The rescaling will help with the conditioning of the fitting.  Plot, `y` vs. `x`. "
      ]
    },
    {
      "cell_type": "code",
      "metadata": {
        "id": "e-wo7ubeoxey",
        "outputId": "dda701b6-9551-4b0a-c0c9-ffbb76f554f2",
        "colab": {
          "base_uri": "https://localhost:8080/",
          "height": 265
        }
      },
      "source": [
        "# TODO\n",
        "x0 = np.array(df['x0'])\n",
        "y0 = np.array(df['y0'])\n",
        "x = x0/np.max(x0)\n",
        "y = y0/np.max(y0) \n",
        "plt.plot(x,y,'o')\n",
        "plt.grid()"
      ],
      "execution_count": 26,
      "outputs": [
        {
          "output_type": "display_data",
          "data": {
            "image/png": "[encoded data removed]",
            "text/plain": [
              "<Figure size 432x288 with 1 Axes>"
            ]
          },
          "metadata": {
            "tags": [],
            "needs_background": "light"
          }
        }
      ]
    },
    {
      "cell_type": "markdown",
      "metadata": {
        "id": "-6S0Ktifoxe0"
      },
      "source": [
        "To make the problem a little more challenging, we will add some noise.  Add random Gaussian noise with mean 0 and std. dev = 0.05 to `y`.  Store the noisy results in `yn`. You can use the `np.random.normal()` function to add Gaussian noise. Plot `yn` vs. `x`."
      ]
    },
    {
      "cell_type": "code",
      "metadata": {
        "id": "XtEXWmpCoxe0",
        "outputId": "33c9ed40-c3e2-428d-e096-e73210384d90",
        "colab": {
          "base_uri": "https://localhost:8080/",
          "height": 282
        }
      },
      "source": [
        "# TODO\n",
        "n = len(y0)\n",
        "yn = y + np.random.normal(0,0.05,n)\n",
        "\n",
        "plt.plot(x,yn,'o')"
      ],
      "execution_count": 27,
      "outputs": [
        {
          "output_type": "execute_result",
          "data": {
            "text/plain": [
              "[<matplotlib.lines.Line2D at 0x7fb0a426f9e8>]"
            ]
          },
          "metadata": {
            "tags": []
          },
          "execution_count": 27
        },
        {
          "output_type": "display_data",
          "data": {
            "image/png": "[encoded data removed]",
            "text/plain": [
              "<Figure size 432x288 with 1 Axes>"
            ]
          },
          "metadata": {
            "tags": [],
            "needs_background": "light"
          }
        }
      ]
    },
    {
      "cell_type": "markdown",
      "metadata": {
        "id": "e6idcZYzoxe3"
      },
      "source": [
        "Split the data `(x,yn)` into training and test.  Let `xtr,ytr` be training data and `xts,yts` be the test data.  You can use the `train_test_split` function.  Set `test_size=0.33` so that 1/3 of the samples are held out for test."
      ]
    },
    {
      "cell_type": "code",
      "metadata": {
        "id": "TxM2l6jroxe4"
      },
      "source": [
        "from sklearn.model_selection import train_test_split\n",
        "\n",
        "# TODO\n",
        "xtr, xts, ytr, yts = train_test_split(x,yn,test_size=0.33)"
      ],
      "execution_count": 28,
      "outputs": []
    },
    {
      "cell_type": "markdown",
      "metadata": {
        "id": "KY59Ch3Hoxe6"
      },
      "source": [
        "## Initial Fit for a Rational Model\n",
        "\n",
        "The [NIST website](https://www.itl.nist.gov/div898/strd/nls/data/hahn1.shtml) suggests using a *rational* model of the form,\n",
        "\n",
        "      yhat = (a[0] + a[1]*x + ... + a[d]*x^d)/(1 + b[0]*x + ... + b[d-1]*x^d)\n",
        "      \n",
        "with `d=3`.  The model parameters are `w = [a[0],...,a[d],b[0],...,b[d-1]]` so there are `2d+1` parameters total.    Complete the function below that takes vectors `w` and `x` and predicts a set of values `yhat` using the above model.\n",
        "   "
      ]
    },
    {
      "cell_type": "code",
      "metadata": {
        "id": "YkR7oIK_oxe6"
      },
      "source": [
        "def predict(w,x):\n",
        "    \n",
        "    # Get the length\n",
        "    d = (len(w)-1)//2\n",
        "    \n",
        "    # TODO.  Extract a and b from w\n",
        "    a = w[:d+1]\n",
        "    b = w[d+1:]\n",
        "    \n",
        "    # TODO.  Compute yhat.  You may use the np.polyval function\n",
        "    # But, remember you must flip the order the a and b\n",
        "    arev = a[::-1] # reverse a\n",
        "    brev = b[::-1]\n",
        "    znum = np.polyval(arev,x)\n",
        "    zden = 1+x*np.polyval(brev,x)\n",
        "    yhat = znum/zden\n",
        "    return yhat"
      ],
      "execution_count": 29,
      "outputs": []
    },
    {
      "cell_type": "markdown",
      "metadata": {
        "id": "MJy6ht_6oxe9"
      },
      "source": [
        "When we fit with a nonlinear model, most methods only get convergence to a local minima.  So, you need a good initial condition.  For a rational model, one way to get is to realize that if:\n",
        "\n",
        "\n",
        "    y ~= (a[0] + a[1]*x + ... + a[d]*x^d)/(1 + b[0]*x + ... + b[d-1]*x^d)\n",
        "    \n",
        "Then:\n",
        "\n",
        "    y ~= a[0] + a[1]*x + ... + a[d]*x^d - b[0]*x*y + ... - b[d-1]*x^d*y.\n",
        "    \n",
        "So, we can solve for the the parameters `w = [a,b]` from linear regression of the predictors,\n",
        "\n",
        "    Z[i,:] = [ x[i], ... , x[i]**d, y[i]*x[i], ... , y[i}*x[i]**d ] "
      ]
    },
    {
      "cell_type": "code",
      "metadata": {
        "id": "hiYy3nRXoxe9"
      },
      "source": [
        "d = 3\n",
        "\n",
        "# TODO.  Create the transformed feature matrix\n",
        "powd = np.arange(1,d+1)\n",
        "Znum = xtr[:,None]**powd[None,:]\n",
        "Zden = -ytr[:,None]*Znum\n",
        "Z = np.hstack((Znum, Zden))\n",
        "\n",
        "# TODO.  Fit with parameters with linear regression\n",
        "regr = LinearRegression()\n",
        "regr.fit(Z,ytr)\n",
        "\n",
        "# TODO\n",
        "# Extract the parameters from regr.coef_ and regr.intercept_ and store the parameter vector in winit\n",
        "w0 = regr.coef_\n",
        "a0 = regr.intercept_\n",
        "winit = np.hstack((a0,w0))"
      ],
      "execution_count": 30,
      "outputs": []
    },
    {
      "cell_type": "markdown",
      "metadata": {
        "id": "Vlg3zBfmoxe_"
      },
      "source": [
        "Now plot the predicted values of the `yhat` vs. `x` using your estimated parameter `winit` for 1000 values `x` in `[0,1]`.  On the same plot, plot `yts` vs. `xts`.  You will see that you get a horrible fit."
      ]
    },
    {
      "cell_type": "code",
      "metadata": {
        "id": "iVNqDSkloxfA",
        "outputId": "369b98fb-daf6-4f00-d0f9-31117b68f722",
        "colab": {
          "base_uri": "https://localhost:8080/",
          "height": 282
        }
      },
      "source": [
        "# TODO\n",
        "xp = np.linspace(0,1,1000)\n",
        "yhat  = predict(winit,xp)\n",
        "plt.plot(xp,yhat)\n",
        "plt.plot(xts, yts, 'o')"
      ],
      "execution_count": 31,
      "outputs": [
        {
          "output_type": "execute_result",
          "data": {
            "text/plain": [
              "[<matplotlib.lines.Line2D at 0x7fb0a426fcf8>]"
            ]
          },
          "metadata": {
            "tags": []
          },
          "execution_count": 31
        },
        {
          "output_type": "display_data",
          "data": {
            "image/png": "[encoded data removed]",
            "text/plain": [
              "<Figure size 432x288 with 1 Axes>"
            ]
          },
          "metadata": {
            "tags": [],
            "needs_background": "light"
          }
        }
      ]
    },
    {
      "cell_type": "markdown",
      "metadata": {
        "id": "ZDY74JAWoxfC"
      },
      "source": [
        "The reason the previous fit is poor is that the denominator in `yhat` goes close to zero.   To avoid this problem, we can use Ridge regression, to try to keep the parameters close to zero.  Re-run the fit above with `Ridge` with `alpha = 1e-3`. You should see you get a reasonable, but not perfect fit."
      ]
    },
    {
      "cell_type": "code",
      "metadata": {
        "id": "GARjKgCDoxfC",
        "outputId": "ff070e69-9ca8-42e3-fb64-7642fd05afa2",
        "colab": {
          "base_uri": "https://localhost:8080/",
          "height": 282
        }
      },
      "source": [
        "# TODO.  Fit with parameters with linear regression\n",
        "regr = Ridge(alpha=1e-3)\n",
        "regr.fit(Z,ytr)\n",
        "\n",
        "# TODO\n",
        "# Extract the parameters from regr.coef_ and regr.intercept_\n",
        "w0 = regr.coef_\n",
        "a0 = regr.intercept_\n",
        "winit = np.hstack((a0,w0))\n",
        "\n",
        "# TODO\n",
        "xp = np.linspace(0,1,1000)\n",
        "yhat  = predict(winit,xp)\n",
        "plt.plot(xp,yhat)\n",
        "plt.plot(xts, yts, 'o')"
      ],
      "execution_count": 32,
      "outputs": [
        {
          "output_type": "execute_result",
          "data": {
            "text/plain": [
              "[<matplotlib.lines.Line2D at 0x7fb0a421a898>]"
            ]
          },
          "metadata": {
            "tags": []
          },
          "execution_count": 32
        },
        {
          "output_type": "display_data",
          "data": {
            "image/png": "[encoded data removed]",
            "text/plain": [
              "<Figure size 432x288 with 1 Axes>"
            ]
          },
          "metadata": {
            "tags": [],
            "needs_background": "light"
          }
        }
      ]
    },
    {
      "cell_type": "markdown",
      "metadata": {
        "id": "6BzybEhYoxfE"
      },
      "source": [
        "## Creating a Loss Function\n",
        "\n",
        "We can now use gradient descent to improve our initial estimate.  Complete the following function to compute\n",
        "\n",
        "    f(w) = 0.5*\\sum_i (y[i] - yhat[i])^2\n",
        "    \n",
        "and `fgrad`, the gradient of `f(w)`."
      ]
    },
    {
      "cell_type": "code",
      "metadata": {
        "id": "SnnGheuRoxfF"
      },
      "source": [
        "def feval(w,x,y):\n",
        "        \n",
        "    \n",
        "    # TODO.  Parse w\n",
        "    d = (len(w)-1)//2\n",
        "    a = w[:d+1]\n",
        "    b = w[d+1:]\n",
        "    \n",
        "    # TODO.  Znum[i,j] = x[i]**j\n",
        "    pow1 = np.arange(0,d+1)\n",
        "    Znum = x[:,None]**pow1[None,:]\n",
        "\n",
        "    # TODO.  Zden[i,j] = x[i]**(j+1)\n",
        "    pow2 = np.arange(1,d+1)\n",
        "    Zden = x[:,None]**pow2[None,:]\n",
        "    \n",
        "    # TODO.  Compute yhat \n",
        "    # Compute the numerator and denominator\n",
        "    rnum = Znum.dot(a)\n",
        "    rden = Zden.dot(b)\n",
        "    yhat = rnum/(1+rden)\n",
        "    \n",
        "    # TODO.  Compute loss\n",
        "    e = yhat-y\n",
        "    f = 0.5*np.sum(e**2)\n",
        "    \n",
        "    # TODO.  Compute gradients\n",
        "    eden = e/(1+rden)\n",
        "    dJ_da = eden.dot(Znum)\n",
        "    enum = -e*yhat/(1+rden)\n",
        "    dJ_db = enum.dot(Zden)    \n",
        "    fgrad = np.hstack((dJ_da, dJ_db))\n",
        "    \n",
        "    \n",
        "    return f, fgrad\n"
      ],
      "execution_count": 33,
      "outputs": []
    },
    {
      "cell_type": "markdown",
      "metadata": {
        "id": "KHsXpaCdoxfH"
      },
      "source": [
        "Test the gradient function:\n",
        "* Take `w0=winit` and compute `f0,fgrad0 = feval(w0,xtr,ytr)`\n",
        "* Take `w1` very close to `w0` and compute `f1,fgrad1 = feval(w1,xtr,ytr)`\n",
        "* Verify that `f1-f0` is close to the predicted value based on the gradient."
      ]
    },
    {
      "cell_type": "code",
      "metadata": {
        "id": "et6j9DqxoxfH",
        "outputId": "2dd1a6e6-a9c4-4c4e-b196-b12c0b8b56b2",
        "colab": {
          "base_uri": "https://localhost:8080/",
          "height": 34
        }
      },
      "source": [
        "# TODO\n",
        "w0 = winit\n",
        "p = len(winit)\n",
        "w1 = w0 + 1e-6\n",
        "f0, fgrad0 = feval(w0,xtr,ytr)\n",
        "f1, fgrad1 = feval(w1,xtr,ytr)\n",
        "\n",
        "print([f1-f0, fgrad0.dot(w1-w0)])"
      ],
      "execution_count": 34,
      "outputs": [
        {
          "output_type": "stream",
          "text": [
            "[-0.004123312523022449, -0.004131976614506068]\n"
          ],
          "name": "stdout"
        }
      ]
    },
    {
      "cell_type": "markdown",
      "metadata": {
        "id": "0498DPr2oxfK"
      },
      "source": [
        "## Implement gradient descent\n",
        "\n",
        "We will now try to minimize the loss function with gradient descent.  Using the function `feval` defined above, implement gradient descent.  Run gradient descent with a step size of `alpha=1e-6` starting at `w=winit`.  Run it for `nit=10000` iterations.  Compute `fgd[it]`= the objective function on iteration `it`.  Plot `fgd[it]` vs. `it`.  \n",
        "\n",
        "You should see that the training loss decreases, but it still hasn't converged after 10000 iterations."
      ]
    },
    {
      "cell_type": "code",
      "metadata": {
        "id": "ogX8XKapoxfL",
        "outputId": "e9185b65-0247-42a2-b3a7-fcda3372addf",
        "colab": {
          "base_uri": "https://localhost:8080/",
          "height": 279
        }
      },
      "source": [
        "# TODO\n",
        "nit = 10000\n",
        "step = 1e-6\n",
        "wt = winit\n",
        "fgd = np.zeros(nit)\n",
        "for it in range(nit):\n",
        "    ft, fgradt = feval(wt,xtr,ytr)\n",
        "    fgd[it] = ft                \n",
        "    wt  = wt - step*fgradt\n",
        "        \n",
        "plt.plot(fgd)\n",
        "plt.xlabel('Iteration')\n",
        "plt.ylabel('Training loss')\n",
        "plt.grid()\n"
      ],
      "execution_count": 35,
      "outputs": [
        {
          "output_type": "display_data",
          "data": {
            "image/png": "[encoded data removed]",
            "text/plain": [
              "<Figure size 432x288 with 1 Axes>"
            ]
          },
          "metadata": {
            "tags": [],
            "needs_background": "light"
          }
        }
      ]
    },
    {
      "cell_type": "markdown",
      "metadata": {
        "id": "2eeJmfbroxfN"
      },
      "source": [
        "Now, try to get a faster convergence with adaptive step-size using the Armijo rule. Implement the gradient descent with adaptive step size.  Let `fadapt[it]` be the loss function on iteration `it`.  Plot `fadapt[it]` and `fgd[it]` vs. `it` on the same graph.  You should see a slight improvement, but not much."
      ]
    },
    {
      "cell_type": "code",
      "metadata": {
        "scrolled": true,
        "id": "E-wpFSUgoxfO",
        "outputId": "1b26c6b6-6a79-4e34-bdc8-7da08bc86a0f",
        "colab": {
          "base_uri": "https://localhost:8080/",
          "height": 279
        }
      },
      "source": [
        "# TODO\n",
        "step = 1e-6\n",
        "w0 = winit\n",
        "fadapt = np.zeros(nit)\n",
        "f0, fgrad0 = feval(w0,xtr,ytr)\n",
        "for it in range(nit):\n",
        "    \n",
        "    # Compute test point\n",
        "    w1 = w0 - step*fgrad0\n",
        "    f1, fgrad1 = feval(w1,xtr,ytr)            \n",
        "\n",
        "    # Test Armijo rule\n",
        "    alpha = 0.5\n",
        "    if (f1-f0 < alpha*fgrad0.dot(w1-w0)) and (f1 < f0):\n",
        "        step = step*2\n",
        "        f0 = f1\n",
        "        fgrad0 = fgrad1\n",
        "        w0 = w1\n",
        "    else:\n",
        "        step = 0.5*step\n",
        "    fadapt[it] = f0                \n",
        "    \n",
        "    \n",
        "plt.plot(fgd)\n",
        "plt.plot(fadapt)\n",
        "plt.xlabel('Iteration')\n",
        "plt.ylabel('Training loss')\n",
        "plt.legend(['Fixed step', 'Adaptive step'])\n",
        "plt.grid()"
      ],
      "execution_count": 36,
      "outputs": [
        {
          "output_type": "display_data",
          "data": {
            "image/png": "[encoded data removed]",
            "text/plain": [
              "<Figure size 432x288 with 1 Axes>"
            ]
          },
          "metadata": {
            "tags": [],
            "needs_background": "light"
          }
        }
      ]
    },
    {
      "cell_type": "markdown",
      "metadata": {
        "id": "-jW3guunoxfQ"
      },
      "source": [
        "Using he final estimate for `w` from the adaptive step-size plot the predicted values of the `yhat` vs. `x` usfor 1000 values `x` in `[0,1]`.  On the same plot, plot `yhat` vs. `x` for the initial parameter `w=winit`.  Also, plot `yts` vs. `xts`.  You should see that gradient descent was able to improve the estimat slightly, although the initial estimate was not too bad."
      ]
    },
    {
      "cell_type": "code",
      "metadata": {
        "id": "WmawLdX8oxfQ",
        "outputId": "239e4783-7b58-498c-fdd5-a41e317c918b",
        "colab": {
          "base_uri": "https://localhost:8080/",
          "height": 282
        }
      },
      "source": [
        "# TODO\n",
        "\n",
        "xp = np.linspace(0,1,1000)\n",
        "yinit = predict(winit,xp)\n",
        "yhat = predict(w0,xp)\n",
        "plt.plot(xts,yts,'o')\n",
        "plt.plot(xp,yinit,'-')\n",
        "plt.plot(xp,yhat,'-')"
      ],
      "execution_count": 40,
      "outputs": [
        {
          "output_type": "execute_result",
          "data": {
            "text/plain": [
              "[<matplotlib.lines.Line2D at 0x7fb0a403ef28>]"
            ]
          },
          "metadata": {
            "tags": []
          },
          "execution_count": 40
        },
        {
          "output_type": "display_data",
          "data": {
            "image/png": "[encoded data removed]",
            "text/plain": [
              "<Figure size 432x288 with 1 Axes>"
            ]
          },
          "metadata": {
            "tags": [],
            "needs_background": "light"
          }
        }
      ]
    },
    {
      "cell_type": "markdown",
      "metadata": {
        "id": "ry-SkFELoxfS"
      },
      "source": [
        "## Momentum Gradient Descent\n",
        "\n",
        "This section is bonus.\n",
        "\n",
        "One way to improve gradient descent is to use *momentum*.  In momentum gradient descent, the update rule is:\n",
        "\n",
        "    f, fgrad = feval(w,...)\n",
        "    z = beta*z + fgrad\n",
        "    w = w - step*z\n",
        "    \n",
        "This is similar to gradient descent, except that there is a second order term on the gradient.  Implement this algorithm with `beta = 0.99` and `step=1e-5`.   Compare the convergence of the loss function with gradient descent.  "
      ]
    },
    {
      "cell_type": "code",
      "metadata": {
        "id": "mUsGzzZioxfS",
        "outputId": "36430a1f-9d37-4ae9-e0af-4f55d68c72db",
        "colab": {
          "base_uri": "https://localhost:8080/",
          "height": 279
        }
      },
      "source": [
        "# TODO\n",
        "nit = 1000\n",
        "step = 1e-5\n",
        "beta = 0.99\n",
        "wt = winit\n",
        "p = len(winit)\n",
        "z = np.zeros(p)\n",
        "fmom = np.zeros(nit)\n",
        "for it in range(nit):\n",
        "    ft, fgradt = feval(wt,xtr,ytr)\n",
        "    z = beta*z + fgradt\n",
        "    wt  = wt - step*z\n",
        "    fmom[it] = ft                \n",
        "        \n",
        "plt.plot(fgd)\n",
        "plt.plot(fadapt)\n",
        "plt.plot(fmom)\n",
        "plt.xlabel('Iteration')\n",
        "plt.ylabel('Training loss')\n",
        "plt.legend(['Fixed step', 'Adaptive step', 'Momentum'])\n",
        "plt.grid()"
      ],
      "execution_count": 41,
      "outputs": [
        {
          "output_type": "display_data",
          "data": {
            "image/png": "[encoded data removed]",
            "text/plain": [
              "<Figure size 432x288 with 1 Axes>"
            ]
          },
          "metadata": {
            "tags": [],
            "needs_background": "light"
          }
        }
      ]
    },
    {
      "cell_type": "code",
      "metadata": {
        "id": "Hlxa3f6FoxfU",
        "outputId": "6530a1ee-15ce-4783-a99f-f595137fd1e5",
        "colab": {
          "base_uri": "https://localhost:8080/",
          "height": 282
        }
      },
      "source": [
        "# TODO\n",
        "# plot yhat vs. x\n",
        "xp = np.linspace(0,1,1000)\n",
        "yinit = predict(winit,xp)\n",
        "yhat = predict(wt,xp)\n",
        "plt.plot(xts,yts,'o')\n",
        "plt.plot(xp,yinit,'-')\n",
        "plt.plot(xp,yhat,'-')"
      ],
      "execution_count": 42,
      "outputs": [
        {
          "output_type": "execute_result",
          "data": {
            "text/plain": [
              "[<matplotlib.lines.Line2D at 0x7fb0a3f99d68>]"
            ]
          },
          "metadata": {
            "tags": []
          },
          "execution_count": 42
        },
        {
          "output_type": "display_data",
          "data": {
            "image/png": "[encoded data removed]",
            "text/plain": [
              "<Figure size 432x288 with 1 Axes>"
            ]
          },
          "metadata": {
            "tags": [],
            "needs_background": "light"
          }
        }
      ]
    },
    {
      "cell_type": "markdown",
      "metadata": {
        "id": "vvpR-VOIoxfX"
      },
      "source": [
        "## Beyond This Lab\n",
        "In this lab, we have just touched at some of the ideas in optimization.  There are several other important algorithms that you can explore:\n",
        "* [Levenberg-Marquardt](https://en.wikipedia.org/wiki/Levenberg%E2%80%93Marquardt_algorithm) method for non-linear least squares\n",
        "* Newton's method\n",
        "* More difficult non-linear least squares problems."
      ]
    },
    {
      "cell_type": "code",
      "metadata": {
        "id": "eqOQ8BX0oxfX"
      },
      "source": [
        ""
      ],
      "execution_count": 39,
      "outputs": []
    }
  ]
}